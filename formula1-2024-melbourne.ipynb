{
  "nbformat": 4,
  "nbformat_minor": 0,
  "metadata": {
    "colab": {
      "provenance": [],
      "authorship_tag": "ABX9TyMVYnpwVHvMAvjS9PkHnc3T",
      "include_colab_link": true
    },
    "kernelspec": {
      "name": "python3",
      "display_name": "Python 3"
    },
    "language_info": {
      "name": "python"
    }
  },
  "cells": [
    {
      "cell_type": "markdown",
      "metadata": {
        "id": "view-in-github",
        "colab_type": "text"
      },
      "source": [
        "<a href=\"https://colab.research.google.com/github/protogia/jffa/blob/main/formula1-2024-melbourne.ipynb\" target=\"_parent\"><img src=\"https://colab.research.google.com/assets/colab-badge.svg\" alt=\"Open In Colab\"/></a>"
      ]
    },
    {
      "cell_type": "markdown",
      "source": [
        "## Preconfiguration for Colab-Notebook to get prefered readability & layout\n",
        "- Disabling IPython-warnings\n",
        "- full-width layout for plots"
      ],
      "metadata": {
        "id": "xsxF54_JeEkV"
      }
    },
    {
      "cell_type": "code",
      "execution_count": 1,
      "metadata": {
        "id": "6sq6WU8FdyT0"
      },
      "outputs": [],
      "source": [
        "import warnings\n",
        "warnings.filterwarnings('ignore')"
      ]
    },
    {
      "cell_type": "code",
      "source": [
        "from IPython.core.display import display, HTML\n",
        "\n",
        "# Set notebook width to 100%\n",
        "display(HTML(\"\"))"
      ],
      "metadata": {
        "colab": {
          "base_uri": "https://localhost:8080/",
          "height": 17
        },
        "id": "Zhm5z2aQd-qP",
        "outputId": "0fa8e9b9-0e9e-48c9-e190-ee0ac2101123"
      },
      "execution_count": 3,
      "outputs": [
        {
          "output_type": "display_data",
          "data": {
            "text/plain": [
              "<IPython.core.display.HTML object>"
            ],
            "text/html": []
          },
          "metadata": {}
        }
      ]
    },
    {
      "cell_type": "markdown",
      "source": [
        "## Install _fastf1_ and load data for first overview."
      ],
      "metadata": {
        "id": "lD0tdtGHt29c"
      }
    },
    {
      "cell_type": "code",
      "source": [
        "%%capture\n",
        "!pip install fastf1;"
      ],
      "metadata": {
        "id": "1wfzD5u7eI1y"
      },
      "execution_count": 2,
      "outputs": []
    },
    {
      "cell_type": "code",
      "source": [
        "import fastf1\n",
        "\n",
        "fastf1.logger.LoggingManager.set_level(fastf1.logger.logging.ERROR);\n",
        "\n",
        "sessions = {}\n",
        "\n",
        "race        = fastf1.get_session(2023, \"Melbourne\", backend=\"ergast\", identifier=\"Q\")\n",
        "qualifying  = fastf1.get_session(2023, \"Melbourne\", backend=\"ergast\", identifier=\"R\")"
      ],
      "metadata": {
        "colab": {
          "base_uri": "https://localhost:8080/"
        },
        "id": "bNcUJc7eihBH",
        "outputId": "3b3aa5b8-416f-48c0-face-b273cad2006f"
      },
      "execution_count": 4,
      "outputs": [
        {
          "output_type": "stream",
          "name": "stderr",
          "text": [
            "WARNING:fastf1.fastf1.req:DEFAULT CACHE ENABLED! (24.0 KB) /root/.cache/fastf1\n"
          ]
        }
      ]
    },
    {
      "cell_type": "code",
      "source": [
        "race.load()\n",
        "qualifying.load()"
      ],
      "metadata": {
        "colab": {
          "base_uri": "https://localhost:8080/"
        },
        "id": "jebETbR9cIqq",
        "outputId": "0f1516d3-61b3-40be-b5a7-51eecf24b427"
      },
      "execution_count": 5,
      "outputs": [
        {
          "output_type": "stream",
          "name": "stderr",
          "text": [
            "INFO:fastf1.fastf1.core:Loading data for Australian Grand Prix - Qualifying [v3.6.1]\n",
            "INFO:fastf1.fastf1.req:No cached data found for session_info. Loading data...\n",
            "INFO:fastf1.api:Fetching session info data...\n",
            "INFO:fastf1.fastf1.req:Data has been written to cache!\n",
            "INFO:fastf1.fastf1.req:No cached data found for driver_info. Loading data...\n",
            "INFO:fastf1.api:Fetching driver list...\n",
            "INFO:fastf1.fastf1.req:Data has been written to cache!\n",
            "DEBUG:fastf1.ergast:Failed to parse timestamp '' in Ergastresponse.\n",
            "INFO:fastf1.fastf1.req:No cached data found for session_status_data. Loading data...\n",
            "INFO:fastf1.api:Fetching session status data...\n",
            "INFO:fastf1.fastf1.req:Data has been written to cache!\n",
            "INFO:fastf1.fastf1.req:No cached data found for track_status_data. Loading data...\n",
            "INFO:fastf1.api:Fetching track status data...\n",
            "INFO:fastf1.fastf1.req:Data has been written to cache!\n",
            "INFO:fastf1.fastf1.req:No cached data found for _extended_timing_data. Loading data...\n",
            "INFO:fastf1.api:Fetching timing data...\n",
            "INFO:fastf1.api:Parsing timing data...\n",
            "INFO:fastf1.fastf1.req:Data has been written to cache!\n",
            "INFO:fastf1.fastf1.req:No cached data found for timing_app_data. Loading data...\n",
            "INFO:fastf1.api:Fetching timing app data...\n",
            "INFO:fastf1.fastf1.req:Data has been written to cache!\n",
            "INFO:fastf1.fastf1.core:Processing timing data...\n",
            "INFO:fastf1.fastf1.req:No cached data found for car_data. Loading data...\n",
            "INFO:fastf1.api:Fetching car data...\n",
            "INFO:fastf1.api:Parsing car data...\n",
            "INFO:fastf1.fastf1.req:Data has been written to cache!\n",
            "INFO:fastf1.fastf1.req:No cached data found for position_data. Loading data...\n",
            "INFO:fastf1.api:Fetching position data...\n",
            "INFO:fastf1.api:Parsing position data...\n",
            "INFO:fastf1.fastf1.req:Data has been written to cache!\n",
            "INFO:fastf1.fastf1.req:No cached data found for weather_data. Loading data...\n",
            "INFO:fastf1.api:Fetching weather data...\n",
            "INFO:fastf1.fastf1.req:Data has been written to cache!\n",
            "INFO:fastf1.fastf1.req:No cached data found for race_control_messages. Loading data...\n",
            "INFO:fastf1.api:Fetching race control messages...\n",
            "INFO:fastf1.fastf1.req:Data has been written to cache!\n",
            "INFO:fastf1.fastf1.core:Finished loading data for 20 drivers: ['1', '63', '44', '14', '55', '18', '16', '23', '10', '27', '31', '22', '4', '20', '21', '81', '24', '2', '77', '11']\n",
            "INFO:fastf1.fastf1.core:Loading data for Australian Grand Prix - Race [v3.6.1]\n",
            "INFO:fastf1.fastf1.req:No cached data found for session_info. Loading data...\n",
            "INFO:fastf1.api:Fetching session info data...\n",
            "INFO:fastf1.fastf1.req:Data has been written to cache!\n",
            "INFO:fastf1.fastf1.req:No cached data found for driver_info. Loading data...\n",
            "INFO:fastf1.api:Fetching driver list...\n",
            "INFO:fastf1.fastf1.req:Data has been written to cache!\n",
            "DEBUG:fastf1.ergast:Failed to parse timestamp '-1:24:05.036' in Ergastresponse.\n",
            "DEBUG:fastf1.ergast:Failed to parse timestamp '-1:24:06.409' in Ergastresponse.\n",
            "DEBUG:fastf1.ergast:Failed to parse timestamp '-1:24:07.342' in Ergastresponse.\n",
            "DEBUG:fastf1.ergast:Failed to parse timestamp '-1:24:07.559' in Ergastresponse.\n",
            "DEBUG:fastf1.ergast:Failed to parse timestamp '-1:01:16.239' in Ergastresponse.\n",
            "INFO:fastf1.fastf1.req:No cached data found for session_status_data. Loading data...\n",
            "INFO:fastf1.api:Fetching session status data...\n",
            "INFO:fastf1.fastf1.req:Data has been written to cache!\n",
            "INFO:fastf1.fastf1.req:No cached data found for lap_count. Loading data...\n",
            "INFO:fastf1.api:Fetching lap count data...\n",
            "INFO:fastf1.fastf1.req:Data has been written to cache!\n",
            "INFO:fastf1.fastf1.req:No cached data found for track_status_data. Loading data...\n",
            "INFO:fastf1.api:Fetching track status data...\n",
            "INFO:fastf1.fastf1.req:Data has been written to cache!\n",
            "INFO:fastf1.fastf1.req:No cached data found for _extended_timing_data. Loading data...\n",
            "INFO:fastf1.api:Fetching timing data...\n",
            "INFO:fastf1.api:Parsing timing data...\n",
            "INFO:fastf1.fastf1.req:Data has been written to cache!\n",
            "INFO:fastf1.fastf1.req:No cached data found for timing_app_data. Loading data...\n",
            "INFO:fastf1.api:Fetching timing app data...\n",
            "INFO:fastf1.fastf1.req:Data has been written to cache!\n",
            "INFO:fastf1.fastf1.core:Processing timing data...\n",
            "INFO:fastf1.fastf1.req:No cached data found for car_data. Loading data...\n",
            "INFO:fastf1.api:Fetching car data...\n",
            "INFO:fastf1.api:Parsing car data...\n",
            "INFO:fastf1.fastf1.req:Data has been written to cache!\n",
            "INFO:fastf1.fastf1.req:No cached data found for position_data. Loading data...\n",
            "INFO:fastf1.api:Fetching position data...\n",
            "INFO:fastf1.api:Parsing position data...\n",
            "WARNING:fastf1.api:Driver 241: Position data is incomplete!\n",
            "WARNING:fastf1.api:Driver 242: Position data is incomplete!\n",
            "WARNING:fastf1.api:Driver 243: Position data is incomplete!\n",
            "INFO:fastf1.fastf1.req:Data has been written to cache!\n",
            "INFO:fastf1.fastf1.req:No cached data found for weather_data. Loading data...\n",
            "INFO:fastf1.api:Fetching weather data...\n",
            "INFO:fastf1.fastf1.req:Data has been written to cache!\n",
            "INFO:fastf1.fastf1.req:No cached data found for race_control_messages. Loading data...\n",
            "INFO:fastf1.api:Fetching race control messages...\n",
            "INFO:fastf1.fastf1.req:Data has been written to cache!\n",
            "INFO:fastf1.fastf1.core:Finished loading data for 20 drivers: ['1', '44', '14', '18', '11', '4', '27', '81', '24', '22', '77', '55', '10', '31', '21', '2', '20', '63', '23', '16']\n"
          ]
        }
      ]
    },
    {
      "cell_type": "markdown",
      "source": [
        "### Save data as _.csv_"
      ],
      "metadata": {
        "id": "PWZHRL9dtN1y"
      }
    },
    {
      "cell_type": "code",
      "source": [
        "import os\n",
        "import pandas as pd\n",
        "from fastf1.core import Session\n",
        "\n",
        "if os.path.exists('data') == False:\n",
        "  os.mkdir('data')\n",
        "\n",
        "qualifying.laps.to_csv('data/qualifying_laps.csv')\n",
        "qualifying.race_control_messages.to_csv('data/qualifying_messages.csv')\n",
        "qualifying.weather_data.to_csv('data/qualifying_weather.csv')\n",
        "qualifying.track_status.to_csv('data/qualifying_track_status.csv')\n",
        "\n",
        "race.race_control_messages.to_csv('data/race_messages.csv')\n",
        "race.weather_data.to_csv('data/race_weather.csv')\n",
        "race.laps.to_csv('data/race_laps.csv')\n",
        "race.track_status.to_csv('data/race_track_status.csv')"
      ],
      "metadata": {
        "id": "fLmzqD2jDmvY"
      },
      "execution_count": 6,
      "outputs": []
    },
    {
      "cell_type": "code",
      "source": [
        "# export drive specific data to csv\n",
        "\n",
        "for driver in qualifying.drivers:\n",
        "  if os.path.exists(f'data/{driver}') == False:\n",
        "    os.mkdir(f'data/{driver}')\n",
        "  qualifying.car_data[driver].to_csv(f'data/{driver}/qualifying_car_data.csv')\n",
        "  qualifying.pos_data[driver].to_csv(f'data/{driver}/qualifying_pos_data.csv')\n",
        "\n",
        "for driver in race.drivers:\n",
        "  if os.path.exists(f'data/{driver}') == False:\n",
        "    os.mkdir(f'data/{driver}')\n",
        "  race.car_data[driver].to_csv(f'data/{driver}/race_car_data.csv')\n",
        "  race.pos_data[driver].to_csv(f'data/{driver}/race_pos_data.csv')\n"
      ],
      "metadata": {
        "id": "WCoesKSNeg-c"
      },
      "execution_count": 7,
      "outputs": []
    },
    {
      "cell_type": "markdown",
      "source": [
        "## Analysing the Qualifying performence of Carlos Sainz Junior"
      ],
      "metadata": {
        "id": "4QQrVSGbuTxF"
      }
    },
    {
      "cell_type": "code",
      "source": [
        "choosen_drivers = ['SAI', 'VER']\n",
        "\n",
        "filtered_qualifying = qualifying.laps[qualifying.laps['Driver'].isin(choosen_drivers)]"
      ],
      "metadata": {
        "id": "r6P_ibDVugHE"
      },
      "execution_count": 105,
      "outputs": []
    },
    {
      "cell_type": "markdown",
      "source": [
        "First we'll calculate the timedifference between each lap in order to analyse the performence of Carlos Sainz Junior over the whole qualifying."
      ],
      "metadata": {
        "id": "rl5s93gZBlPz"
      }
    },
    {
      "cell_type": "code",
      "metadata": {
        "id": "3699b9c3"
      },
      "source": [
        "# calculate lap time difference and time difference\n",
        "filtered_qualifying['LapTimeDifference'] = filtered_qualifying['LapTime'].diff().dt.total_seconds()"
      ],
      "execution_count": 106,
      "outputs": []
    },
    {
      "cell_type": "markdown",
      "source": [
        "As you can see in the following plot the laptime is decreasing over time if you ignore the outliers. The outliers are caused by external reasons but not by the driver himself, whereas the reasons are visualised via vertical dotted lines.\n",
        "\n",
        "- blue line: Track is all clear.\n",
        "- Yellow line: Yellow Flag.\n",
        "- Red line: Red Flag.\n",
        "- Grey/Black line: Safety Car/ Virtual Safety Car is deployed.\n",
        "- Green line: Safety Car Ending.\n"
      ],
      "metadata": {
        "id": "Fy8AIEIcCUuA"
      }
    },
    {
      "cell_type": "code",
      "metadata": {
        "colab": {
          "base_uri": "https://localhost:8080/",
          "height": 542
        },
        "id": "0ccf36d4",
        "outputId": "94934285-1635-4a3a-dd3d-de3a8e5e08d5"
      },
      "source": [
        "from ctypes import alignment\n",
        "import plotly.express as px\n",
        "import pandas as pd\n",
        "import plotly.graph_objects as go\n",
        "\n",
        "track_status_colors = {\n",
        "    \"AllClear\":\"green\",\n",
        "    \"Yellow\":\"yellow\",\n",
        "    \"Red\":\"red\",\n",
        "    \"SCDeployed\":\"purple\",\n",
        "    \"VSCDeployed\":\"violet\",\n",
        "    \"VSCEnding\":\"orange\"\n",
        "}\n",
        "\n",
        "filtered_qualifying['LapTime_seconds'] = filtered_qualifying['LapTime'].dt.total_seconds() # needed for plotting\n",
        "\n",
        "fig = px.line(filtered_qualifying, x='LapNumber', y='LapTime_seconds', color='Driver', template='none')\n",
        "fig.update_layout(title='Laptime within Qualifying', xaxis_title='Lap Number', yaxis_title='Lap Time (seconds)')\n",
        "\n",
        "# Add vertical lines for track status changes\n",
        "for index, row in qualifying.track_status.iterrows():\n",
        "    # Find the closest lap number in filtered_qualifying based on time\n",
        "    closest_lap = filtered_qualifying.loc[filtered_qualifying['Time'].sub(row['Time']).abs().idxmin()]\n",
        "    fig.add_vline(x=closest_lap['LapNumber'], line_width=1, line_dash=\"dash\", line_color=track_status_colors[row['Message']])\n",
        "\n",
        "    # Add hover information using a scatter trace with invisible markers\n",
        "    fig.add_trace(go.Scatter(\n",
        "        x=[closest_lap['LapNumber']],\n",
        "        y=[0], # Place the marker at x-axis\n",
        "        mode='markers',\n",
        "        hoverinfo='text',\n",
        "        text=f\"Track Status: {row['Message']}\",\n",
        "        showlegend=False # Hide this trace from the legend\n",
        "    ))\n",
        "\n",
        "\n",
        "fig.show()"
      ],
      "execution_count": 107,
      "outputs": [
        {
          "output_type": "display_data",
          "data": {
            "text/html": [
              "<html>\n",
              "<head><meta charset=\"utf-8\" /></head>\n",
              "<body>\n",
              "    <div>            <script src=\"https://cdnjs.cloudflare.com/ajax/libs/mathjax/2.7.5/MathJax.js?config=TeX-AMS-MML_SVG\"></script><script type=\"text/javascript\">if (window.MathJax && window.MathJax.Hub && window.MathJax.Hub.Config) {window.MathJax.Hub.Config({SVG: {font: \"STIX-Web\"}});}</script>                <script type=\"text/javascript\">window.PlotlyConfig = {MathJaxConfig: 'local'};</script>\n",
              "        <script charset=\"utf-8\" src=\"https://cdn.plot.ly/plotly-2.35.2.min.js\"></script>                <div id=\"63fcc5cc-2b61-4e8f-b8dd-59fd3167d277\" class=\"plotly-graph-div\" style=\"height:525px; width:100%;\"></div>            <script type=\"text/javascript\">                                    window.PLOTLYENV=window.PLOTLYENV || {};                                    if (document.getElementById(\"63fcc5cc-2b61-4e8f-b8dd-59fd3167d277\")) {                    Plotly.newPlot(                        \"63fcc5cc-2b61-4e8f-b8dd-59fd3167d277\",                        [{\"hovertemplate\":\"Driver=VER\\u003cbr\\u003eLapNumber=%{x}\\u003cbr\\u003eLapTime_seconds=%{y}\\u003cextra\\u003e\\u003c\\u002fextra\\u003e\",\"legendgroup\":\"VER\",\"line\":{\"color\":\"#1F77B4\",\"dash\":\"solid\"},\"marker\":{\"symbol\":\"circle\"},\"mode\":\"lines\",\"name\":\"VER\",\"orientation\":\"v\",\"showlegend\":true,\"x\":[1.0,2.0,3.0,4.0,5.0,6.0,7.0,8.0,9.0,10.0,11.0,12.0,13.0,14.0,15.0,16.0,17.0,18.0,19.0,20.0,21.0,22.0,23.0,24.0,25.0,26.0,27.0,28.0,29.0,30.0,31.0,32.0,33.0,34.0,35.0,36.0,37.0,38.0,39.0,40.0,41.0,42.0,43.0,44.0,45.0,46.0,47.0,48.0,49.0,50.0,51.0,52.0,53.0,54.0,55.0,56.0,57.0,58.0],\"xaxis\":\"x\",\"y\":[101.571,132.105,130.657,83.391,83.104,82.843,95.07,null,null,87.827,83.46,81.994,83.286,82.869,82.817,82.599,82.595,100.315,103.75,82.389,82.11,82.269,82.193,81.843,82.104,81.972,81.924,81.926,81.772,82.002,82.024,82.012,81.819,81.894,81.681,81.732,81.403,81.319,81.578,81.078,80.986,81.148,81.166,81.089,80.807,80.703,84.107,81.073,80.342,80.471,80.632,80.738,80.671,91.178,null,null,null,null],\"yaxis\":\"y\",\"type\":\"scatter\"},{\"hovertemplate\":\"Driver=SAI\\u003cbr\\u003eLapNumber=%{x}\\u003cbr\\u003eLapTime_seconds=%{y}\\u003cextra\\u003e\\u003c\\u002fextra\\u003e\",\"legendgroup\":\"SAI\",\"line\":{\"color\":\"#FF7F0E\",\"dash\":\"solid\"},\"marker\":{\"symbol\":\"circle\"},\"mode\":\"lines\",\"name\":\"SAI\",\"orientation\":\"v\",\"showlegend\":true,\"x\":[1.0,2.0,3.0,4.0,5.0,6.0,7.0,8.0,9.0,10.0,11.0,12.0,13.0,14.0,15.0,16.0,17.0,18.0,19.0,20.0,21.0,22.0,23.0,24.0,25.0,26.0,27.0,28.0,29.0,30.0,31.0,32.0,33.0,34.0,35.0,36.0,37.0,38.0,39.0,40.0,41.0,42.0,43.0,44.0,45.0,46.0,47.0,48.0,49.0,50.0,51.0,52.0,53.0,54.0,55.0,56.0,57.0,58.0],\"xaxis\":\"x\",\"y\":[103.866,131.411,129.958,83.889,83.217,82.809,108.202,null,null,90.864,84.433,83.199,82.862,82.958,82.587,83.225,82.945,104.581,99.533,82.102,82.15,82.903,82.523,82.425,82.994,82.438,82.099,81.919,82.412,82.155,81.854,81.986,81.77,81.877,81.692,81.695,81.659,81.552,81.852,81.942,81.412,81.34,81.074,81.337,81.303,81.308,81.033,81.235,81.102,80.97,80.826,80.719,80.467,98.214,null,null,null,null],\"yaxis\":\"y\",\"type\":\"scatter\"},{\"hoverinfo\":\"text\",\"mode\":\"markers\",\"showlegend\":false,\"text\":\"Track Status: Yellow\",\"x\":[1.0],\"y\":[0],\"type\":\"scatter\"},{\"hoverinfo\":\"text\",\"mode\":\"markers\",\"showlegend\":false,\"text\":\"Track Status: AllClear\",\"x\":[1.0],\"y\":[0],\"type\":\"scatter\"},{\"hoverinfo\":\"text\",\"mode\":\"markers\",\"showlegend\":false,\"text\":\"Track Status: Yellow\",\"x\":[1.0],\"y\":[0],\"type\":\"scatter\"},{\"hoverinfo\":\"text\",\"mode\":\"markers\",\"showlegend\":false,\"text\":\"Track Status: AllClear\",\"x\":[1.0],\"y\":[0],\"type\":\"scatter\"},{\"hoverinfo\":\"text\",\"mode\":\"markers\",\"showlegend\":false,\"text\":\"Track Status: Yellow\",\"x\":[1.0],\"y\":[0],\"type\":\"scatter\"},{\"hoverinfo\":\"text\",\"mode\":\"markers\",\"showlegend\":false,\"text\":\"Track Status: SCDeployed\",\"x\":[1.0],\"y\":[0],\"type\":\"scatter\"},{\"hoverinfo\":\"text\",\"mode\":\"markers\",\"showlegend\":false,\"text\":\"Track Status: AllClear\",\"x\":[3.0],\"y\":[0],\"type\":\"scatter\"},{\"hoverinfo\":\"text\",\"mode\":\"markers\",\"showlegend\":false,\"text\":\"Track Status: Yellow\",\"x\":[6.0],\"y\":[0],\"type\":\"scatter\"},{\"hoverinfo\":\"text\",\"mode\":\"markers\",\"showlegend\":false,\"text\":\"Track Status: SCDeployed\",\"x\":[7.0],\"y\":[0],\"type\":\"scatter\"},{\"hoverinfo\":\"text\",\"mode\":\"markers\",\"showlegend\":false,\"text\":\"Track Status: Red\",\"x\":[7.0],\"y\":[0],\"type\":\"scatter\"},{\"hoverinfo\":\"text\",\"mode\":\"markers\",\"showlegend\":false,\"text\":\"Track Status: AllClear\",\"x\":[8.0],\"y\":[0],\"type\":\"scatter\"},{\"hoverinfo\":\"text\",\"mode\":\"markers\",\"showlegend\":false,\"text\":\"Track Status: VSCDeployed\",\"x\":[17.0],\"y\":[0],\"type\":\"scatter\"},{\"hoverinfo\":\"text\",\"mode\":\"markers\",\"showlegend\":false,\"text\":\"Track Status: VSCEnding\",\"x\":[19.0],\"y\":[0],\"type\":\"scatter\"},{\"hoverinfo\":\"text\",\"mode\":\"markers\",\"showlegend\":false,\"text\":\"Track Status: AllClear\",\"x\":[19.0],\"y\":[0],\"type\":\"scatter\"},{\"hoverinfo\":\"text\",\"mode\":\"markers\",\"showlegend\":false,\"text\":\"Track Status: Yellow\",\"x\":[53.0],\"y\":[0],\"type\":\"scatter\"},{\"hoverinfo\":\"text\",\"mode\":\"markers\",\"showlegend\":false,\"text\":\"Track Status: AllClear\",\"x\":[53.0],\"y\":[0],\"type\":\"scatter\"},{\"hoverinfo\":\"text\",\"mode\":\"markers\",\"showlegend\":false,\"text\":\"Track Status: SCDeployed\",\"x\":[54.0],\"y\":[0],\"type\":\"scatter\"},{\"hoverinfo\":\"text\",\"mode\":\"markers\",\"showlegend\":false,\"text\":\"Track Status: Red\",\"x\":[55.0],\"y\":[0],\"type\":\"scatter\"},{\"hoverinfo\":\"text\",\"mode\":\"markers\",\"showlegend\":false,\"text\":\"Track Status: AllClear\",\"x\":[55.0],\"y\":[0],\"type\":\"scatter\"},{\"hoverinfo\":\"text\",\"mode\":\"markers\",\"showlegend\":false,\"text\":\"Track Status: Yellow\",\"x\":[56.0],\"y\":[0],\"type\":\"scatter\"},{\"hoverinfo\":\"text\",\"mode\":\"markers\",\"showlegend\":false,\"text\":\"Track Status: Red\",\"x\":[56.0],\"y\":[0],\"type\":\"scatter\"},{\"hoverinfo\":\"text\",\"mode\":\"markers\",\"showlegend\":false,\"text\":\"Track Status: AllClear\",\"x\":[57.0],\"y\":[0],\"type\":\"scatter\"},{\"hoverinfo\":\"text\",\"mode\":\"markers\",\"showlegend\":false,\"text\":\"Track Status: Red\",\"x\":[58.0],\"y\":[0],\"type\":\"scatter\"}],                        {\"template\":{\"data\":{\"scatter\":[{\"type\":\"scatter\"}]}},\"xaxis\":{\"anchor\":\"y\",\"domain\":[0.0,1.0],\"title\":{\"text\":\"Lap Number\"}},\"yaxis\":{\"anchor\":\"x\",\"domain\":[0.0,1.0],\"title\":{\"text\":\"Lap Time (seconds)\"}},\"legend\":{\"title\":{\"text\":\"Driver\"},\"tracegroupgap\":0},\"margin\":{\"t\":60},\"title\":{\"text\":\"Laptime within Qualifying\"},\"shapes\":[{\"line\":{\"color\":\"yellow\",\"dash\":\"dash\",\"width\":1},\"type\":\"line\",\"x0\":1.0,\"x1\":1.0,\"xref\":\"x\",\"y0\":0,\"y1\":1,\"yref\":\"y domain\"},{\"line\":{\"color\":\"green\",\"dash\":\"dash\",\"width\":1},\"type\":\"line\",\"x0\":1.0,\"x1\":1.0,\"xref\":\"x\",\"y0\":0,\"y1\":1,\"yref\":\"y domain\"},{\"line\":{\"color\":\"yellow\",\"dash\":\"dash\",\"width\":1},\"type\":\"line\",\"x0\":1.0,\"x1\":1.0,\"xref\":\"x\",\"y0\":0,\"y1\":1,\"yref\":\"y domain\"},{\"line\":{\"color\":\"green\",\"dash\":\"dash\",\"width\":1},\"type\":\"line\",\"x0\":1.0,\"x1\":1.0,\"xref\":\"x\",\"y0\":0,\"y1\":1,\"yref\":\"y domain\"},{\"line\":{\"color\":\"yellow\",\"dash\":\"dash\",\"width\":1},\"type\":\"line\",\"x0\":1.0,\"x1\":1.0,\"xref\":\"x\",\"y0\":0,\"y1\":1,\"yref\":\"y domain\"},{\"line\":{\"color\":\"purple\",\"dash\":\"dash\",\"width\":1},\"type\":\"line\",\"x0\":1.0,\"x1\":1.0,\"xref\":\"x\",\"y0\":0,\"y1\":1,\"yref\":\"y domain\"},{\"line\":{\"color\":\"green\",\"dash\":\"dash\",\"width\":1},\"type\":\"line\",\"x0\":3.0,\"x1\":3.0,\"xref\":\"x\",\"y0\":0,\"y1\":1,\"yref\":\"y domain\"},{\"line\":{\"color\":\"yellow\",\"dash\":\"dash\",\"width\":1},\"type\":\"line\",\"x0\":6.0,\"x1\":6.0,\"xref\":\"x\",\"y0\":0,\"y1\":1,\"yref\":\"y domain\"},{\"line\":{\"color\":\"purple\",\"dash\":\"dash\",\"width\":1},\"type\":\"line\",\"x0\":7.0,\"x1\":7.0,\"xref\":\"x\",\"y0\":0,\"y1\":1,\"yref\":\"y domain\"},{\"line\":{\"color\":\"red\",\"dash\":\"dash\",\"width\":1},\"type\":\"line\",\"x0\":7.0,\"x1\":7.0,\"xref\":\"x\",\"y0\":0,\"y1\":1,\"yref\":\"y domain\"},{\"line\":{\"color\":\"green\",\"dash\":\"dash\",\"width\":1},\"type\":\"line\",\"x0\":8.0,\"x1\":8.0,\"xref\":\"x\",\"y0\":0,\"y1\":1,\"yref\":\"y domain\"},{\"line\":{\"color\":\"violet\",\"dash\":\"dash\",\"width\":1},\"type\":\"line\",\"x0\":17.0,\"x1\":17.0,\"xref\":\"x\",\"y0\":0,\"y1\":1,\"yref\":\"y domain\"},{\"line\":{\"color\":\"orange\",\"dash\":\"dash\",\"width\":1},\"type\":\"line\",\"x0\":19.0,\"x1\":19.0,\"xref\":\"x\",\"y0\":0,\"y1\":1,\"yref\":\"y domain\"},{\"line\":{\"color\":\"green\",\"dash\":\"dash\",\"width\":1},\"type\":\"line\",\"x0\":19.0,\"x1\":19.0,\"xref\":\"x\",\"y0\":0,\"y1\":1,\"yref\":\"y domain\"},{\"line\":{\"color\":\"yellow\",\"dash\":\"dash\",\"width\":1},\"type\":\"line\",\"x0\":53.0,\"x1\":53.0,\"xref\":\"x\",\"y0\":0,\"y1\":1,\"yref\":\"y domain\"},{\"line\":{\"color\":\"green\",\"dash\":\"dash\",\"width\":1},\"type\":\"line\",\"x0\":53.0,\"x1\":53.0,\"xref\":\"x\",\"y0\":0,\"y1\":1,\"yref\":\"y domain\"},{\"line\":{\"color\":\"purple\",\"dash\":\"dash\",\"width\":1},\"type\":\"line\",\"x0\":54.0,\"x1\":54.0,\"xref\":\"x\",\"y0\":0,\"y1\":1,\"yref\":\"y domain\"},{\"line\":{\"color\":\"red\",\"dash\":\"dash\",\"width\":1},\"type\":\"line\",\"x0\":55.0,\"x1\":55.0,\"xref\":\"x\",\"y0\":0,\"y1\":1,\"yref\":\"y domain\"},{\"line\":{\"color\":\"green\",\"dash\":\"dash\",\"width\":1},\"type\":\"line\",\"x0\":55.0,\"x1\":55.0,\"xref\":\"x\",\"y0\":0,\"y1\":1,\"yref\":\"y domain\"},{\"line\":{\"color\":\"yellow\",\"dash\":\"dash\",\"width\":1},\"type\":\"line\",\"x0\":56.0,\"x1\":56.0,\"xref\":\"x\",\"y0\":0,\"y1\":1,\"yref\":\"y domain\"},{\"line\":{\"color\":\"red\",\"dash\":\"dash\",\"width\":1},\"type\":\"line\",\"x0\":56.0,\"x1\":56.0,\"xref\":\"x\",\"y0\":0,\"y1\":1,\"yref\":\"y domain\"},{\"line\":{\"color\":\"green\",\"dash\":\"dash\",\"width\":1},\"type\":\"line\",\"x0\":57.0,\"x1\":57.0,\"xref\":\"x\",\"y0\":0,\"y1\":1,\"yref\":\"y domain\"},{\"line\":{\"color\":\"red\",\"dash\":\"dash\",\"width\":1},\"type\":\"line\",\"x0\":58.0,\"x1\":58.0,\"xref\":\"x\",\"y0\":0,\"y1\":1,\"yref\":\"y domain\"}]},                        {\"responsive\": true}                    ).then(function(){\n",
              "                            \n",
              "var gd = document.getElementById('63fcc5cc-2b61-4e8f-b8dd-59fd3167d277');\n",
              "var x = new MutationObserver(function (mutations, observer) {{\n",
              "        var display = window.getComputedStyle(gd).display;\n",
              "        if (!display || display === 'none') {{\n",
              "            console.log([gd, 'removed!']);\n",
              "            Plotly.purge(gd);\n",
              "            observer.disconnect();\n",
              "        }}\n",
              "}});\n",
              "\n",
              "// Listen for the removal of the full notebook cells\n",
              "var notebookContainer = gd.closest('#notebook-container');\n",
              "if (notebookContainer) {{\n",
              "    x.observe(notebookContainer, {childList: true});\n",
              "}}\n",
              "\n",
              "// Listen for the clearing of the current output cell\n",
              "var outputEl = gd.closest('.output');\n",
              "if (outputEl) {{\n",
              "    x.observe(outputEl, {childList: true});\n",
              "}}\n",
              "\n",
              "                        })                };                            </script>        </div>\n",
              "</body>\n",
              "</html>"
            ]
          },
          "metadata": {}
        }
      ]
    },
    {
      "cell_type": "markdown",
      "source": [
        "To compare the performence change between each lap we'll filter the outliers which are represented by values _<=25th-percentile and >=75th-percentile_ and calculate the percentage change between each row of the data.\n",
        "\n",
        "For outlier detection we'll use IRQ (Interquartile Range) because it doesn't rely on mean and standard deviation of a dataset.  "
      ],
      "metadata": {
        "id": "sYJFNY1hDq1u"
      }
    },
    {
      "cell_type": "code",
      "metadata": {
        "id": "9d241793"
      },
      "source": [
        "# calculate thresholds for outliers\n",
        "Q1 = filtered_qualifying['LapTime'].quantile(0.25)\n",
        "Q3 = filtered_qualifying['LapTime'].quantile(0.75)\n",
        "IQR = Q3 - Q1\n",
        "\n",
        "upper_fence = Q3 + 1.5 * IQR\n",
        "lower_fence = Q1 - 1.5 * IQR\n",
        "\n",
        "# filter outliers\n",
        "qualifying_without_outliers = filtered_qualifying[(filtered_qualifying['LapTime'] >= lower_fence) & (filtered_qualifying['LapTime'] <= upper_fence)]\n",
        "\n",
        "# calculate percentage difference per lap\n",
        "qualifying_without_outliers['LapTimePercentageDifference'] = qualifying_without_outliers['LapTime'].pct_change() * 100"
      ],
      "execution_count": 108,
      "outputs": []
    },
    {
      "cell_type": "code",
      "metadata": {
        "colab": {
          "base_uri": "https://localhost:8080/",
          "height": 542
        },
        "id": "60154e66",
        "outputId": "23e1f954-95f1-40a1-91c4-732f6c868dcc"
      },
      "source": [
        "import plotly.graph_objects as go\n",
        "\n",
        "fig = px.bar(qualifying_without_outliers, x='LapNumber', y='LapTimePercentageDifference', color='Driver', template='none')\n",
        "fig.update_layout(title='Percentage Difference in Lap Time between Laps', xaxis_title='Lap Number', yaxis_title='Percentage Difference')\n",
        "\n",
        "# Add vertical lines for track status changes\n",
        "for index, row in qualifying.track_status.iterrows():\n",
        "    # Find the closest lap number in filtered_qualifying based on time\n",
        "    closest_lap = filtered_qualifying.loc[filtered_qualifying['Time'].sub(row['Time']).abs().idxmin()]\n",
        "    fig.add_vline(x=closest_lap['LapNumber'], line_width=1, line_dash=\"dash\", line_color=track_status_colors[row['Message']])\n",
        "\n",
        "    # Add hover information using a scatter trace with invisible markers\n",
        "    fig.add_trace(go.Scatter(\n",
        "        x=[closest_lap['LapNumber']],\n",
        "        y=[0], # Place the marker at x-axis\n",
        "        mode='markers',\n",
        "        hoverinfo='text',\n",
        "        text=f\"Track Status: {row['Message']}\",\n",
        "        showlegend=False # Hide this trace from the legend\n",
        "    ))\n",
        "\n",
        "fig.show()"
      ],
      "execution_count": 109,
      "outputs": [
        {
          "output_type": "display_data",
          "data": {
            "text/html": [
              "<html>\n",
              "<head><meta charset=\"utf-8\" /></head>\n",
              "<body>\n",
              "    <div>            <script src=\"https://cdnjs.cloudflare.com/ajax/libs/mathjax/2.7.5/MathJax.js?config=TeX-AMS-MML_SVG\"></script><script type=\"text/javascript\">if (window.MathJax && window.MathJax.Hub && window.MathJax.Hub.Config) {window.MathJax.Hub.Config({SVG: {font: \"STIX-Web\"}});}</script>                <script type=\"text/javascript\">window.PlotlyConfig = {MathJaxConfig: 'local'};</script>\n",
              "        <script charset=\"utf-8\" src=\"https://cdn.plot.ly/plotly-2.35.2.min.js\"></script>                <div id=\"2b82cead-4464-4310-bb4b-fa2f0b59dc7a\" class=\"plotly-graph-div\" style=\"height:525px; width:100%;\"></div>            <script type=\"text/javascript\">                                    window.PLOTLYENV=window.PLOTLYENV || {};                                    if (document.getElementById(\"2b82cead-4464-4310-bb4b-fa2f0b59dc7a\")) {                    Plotly.newPlot(                        \"2b82cead-4464-4310-bb4b-fa2f0b59dc7a\",                        [{\"alignmentgroup\":\"True\",\"hovertemplate\":\"Driver=VER\\u003cbr\\u003eLapNumber=%{x}\\u003cbr\\u003eLapTimePercentageDifference=%{y}\\u003cextra\\u003e\\u003c\\u002fextra\\u003e\",\"legendgroup\":\"VER\",\"marker\":{\"color\":\"#1F77B4\",\"pattern\":{\"shape\":\"\"}},\"name\":\"VER\",\"offsetgroup\":\"VER\",\"orientation\":\"v\",\"showlegend\":true,\"textposition\":\"auto\",\"x\":[4.0,5.0,6.0,11.0,12.0,13.0,14.0,15.0,16.0,17.0,20.0,21.0,22.0,23.0,24.0,25.0,26.0,27.0,28.0,29.0,30.0,31.0,32.0,33.0,34.0,35.0,36.0,37.0,38.0,39.0,40.0,41.0,42.0,43.0,44.0,45.0,46.0,47.0,48.0,49.0,50.0,51.0,52.0,53.0],\"xaxis\":\"x\",\"y\":[null,-0.3441618400067181,-0.31406430496726534,0.7447822990475972,-1.7565300742870882,1.5757250530526568,-0.5006843887327972,-0.06274964099964864,-0.26323097914678906,-0.004842673640115258,-0.24940977056722158,-0.3386374394640068,0.19364267446109196,-0.09237987577337403,-0.4258270168992495,0.3189032660093183,-0.1607717041800627,-0.05855658029570998,0.002441287046539564,-0.1879745135854316,0.2812698723279272,0.026828613936236145,-0.014629864429926975,-0.23533141491488552,0.09166575000916222,-0.2600923144552736,0.06243802108201191,-0.40253511476533443,-0.10319030011178842,0.3184987518292104,-0.6129103434749594,-0.11347097856385657,0.20003457387696155,0.022181692709621892,-0.09486730897173556,-0.347766034850594,-0.12870172138552682,4.217934897091813,-3.6073097364071938,-0.9016565317676695,0.16056359064997583,0.20007207565457819,0.13146145450937397,-0.08298446828011175],\"yaxis\":\"y\",\"type\":\"bar\"},{\"alignmentgroup\":\"True\",\"hovertemplate\":\"Driver=SAI\\u003cbr\\u003eLapNumber=%{x}\\u003cbr\\u003eLapTimePercentageDifference=%{y}\\u003cextra\\u003e\\u003c\\u002fextra\\u003e\",\"legendgroup\":\"SAI\",\"marker\":{\"color\":\"#FF7F0E\",\"pattern\":{\"shape\":\"\"}},\"name\":\"SAI\",\"offsetgroup\":\"SAI\",\"orientation\":\"v\",\"showlegend\":true,\"textposition\":\"auto\",\"x\":[4.0,5.0,6.0,11.0,12.0,13.0,14.0,15.0,16.0,17.0,20.0,21.0,22.0,23.0,24.0,25.0,26.0,27.0,28.0,29.0,30.0,31.0,32.0,33.0,34.0,35.0,36.0,37.0,38.0,39.0,40.0,41.0,42.0,43.0,44.0,45.0,46.0,47.0,48.0,49.0,50.0,51.0,52.0,53.0],\"xaxis\":\"x\",\"y\":[3.9890419109717357,-0.8010585416443172,-0.49028443707415104,1.961139489669006,-1.4615138630630242,-0.4050529453479057,0.1158552774492616,-0.447214252995487,0.7725186772736592,-0.3364373685791566,-1.0163361263487825,0.058463862025281976,0.9166159464394363,-0.4583670072253132,-0.11875477139706714,0.6903245374582978,-0.6699279465985475,-0.4112181275625293,-0.21924749387933762,0.6018139869871542,-0.311847789156916,-0.36638062199501054,0.16126273609109454,-0.2634596150562274,0.130854836737182,-0.22594867911623906,0.0036723302159424875,-0.044066344329518614,-0.13103270919311294,0.36786344908770197,0.10995455211846306,-0.6467989553586628,-0.08843905075418546,-0.3270223752151469,0.32439499716307996,-0.041801394199436626,0.006149834569457724,-0.33822010134304525,0.24928115705946663,-0.16372253339077547,-0.1627580084338276,-0.17784364579473966,-0.1323831440378065,-0.31219415503165315],\"yaxis\":\"y\",\"type\":\"bar\"},{\"hoverinfo\":\"text\",\"mode\":\"markers\",\"showlegend\":false,\"text\":\"Track Status: Yellow\",\"x\":[1.0],\"y\":[0],\"type\":\"scatter\"},{\"hoverinfo\":\"text\",\"mode\":\"markers\",\"showlegend\":false,\"text\":\"Track Status: AllClear\",\"x\":[1.0],\"y\":[0],\"type\":\"scatter\"},{\"hoverinfo\":\"text\",\"mode\":\"markers\",\"showlegend\":false,\"text\":\"Track Status: Yellow\",\"x\":[1.0],\"y\":[0],\"type\":\"scatter\"},{\"hoverinfo\":\"text\",\"mode\":\"markers\",\"showlegend\":false,\"text\":\"Track Status: AllClear\",\"x\":[1.0],\"y\":[0],\"type\":\"scatter\"},{\"hoverinfo\":\"text\",\"mode\":\"markers\",\"showlegend\":false,\"text\":\"Track Status: Yellow\",\"x\":[1.0],\"y\":[0],\"type\":\"scatter\"},{\"hoverinfo\":\"text\",\"mode\":\"markers\",\"showlegend\":false,\"text\":\"Track Status: SCDeployed\",\"x\":[1.0],\"y\":[0],\"type\":\"scatter\"},{\"hoverinfo\":\"text\",\"mode\":\"markers\",\"showlegend\":false,\"text\":\"Track Status: AllClear\",\"x\":[3.0],\"y\":[0],\"type\":\"scatter\"},{\"hoverinfo\":\"text\",\"mode\":\"markers\",\"showlegend\":false,\"text\":\"Track Status: Yellow\",\"x\":[6.0],\"y\":[0],\"type\":\"scatter\"},{\"hoverinfo\":\"text\",\"mode\":\"markers\",\"showlegend\":false,\"text\":\"Track Status: SCDeployed\",\"x\":[7.0],\"y\":[0],\"type\":\"scatter\"},{\"hoverinfo\":\"text\",\"mode\":\"markers\",\"showlegend\":false,\"text\":\"Track Status: Red\",\"x\":[7.0],\"y\":[0],\"type\":\"scatter\"},{\"hoverinfo\":\"text\",\"mode\":\"markers\",\"showlegend\":false,\"text\":\"Track Status: AllClear\",\"x\":[8.0],\"y\":[0],\"type\":\"scatter\"},{\"hoverinfo\":\"text\",\"mode\":\"markers\",\"showlegend\":false,\"text\":\"Track Status: VSCDeployed\",\"x\":[17.0],\"y\":[0],\"type\":\"scatter\"},{\"hoverinfo\":\"text\",\"mode\":\"markers\",\"showlegend\":false,\"text\":\"Track Status: VSCEnding\",\"x\":[19.0],\"y\":[0],\"type\":\"scatter\"},{\"hoverinfo\":\"text\",\"mode\":\"markers\",\"showlegend\":false,\"text\":\"Track Status: AllClear\",\"x\":[19.0],\"y\":[0],\"type\":\"scatter\"},{\"hoverinfo\":\"text\",\"mode\":\"markers\",\"showlegend\":false,\"text\":\"Track Status: Yellow\",\"x\":[53.0],\"y\":[0],\"type\":\"scatter\"},{\"hoverinfo\":\"text\",\"mode\":\"markers\",\"showlegend\":false,\"text\":\"Track Status: AllClear\",\"x\":[53.0],\"y\":[0],\"type\":\"scatter\"},{\"hoverinfo\":\"text\",\"mode\":\"markers\",\"showlegend\":false,\"text\":\"Track Status: SCDeployed\",\"x\":[54.0],\"y\":[0],\"type\":\"scatter\"},{\"hoverinfo\":\"text\",\"mode\":\"markers\",\"showlegend\":false,\"text\":\"Track Status: Red\",\"x\":[55.0],\"y\":[0],\"type\":\"scatter\"},{\"hoverinfo\":\"text\",\"mode\":\"markers\",\"showlegend\":false,\"text\":\"Track Status: AllClear\",\"x\":[55.0],\"y\":[0],\"type\":\"scatter\"},{\"hoverinfo\":\"text\",\"mode\":\"markers\",\"showlegend\":false,\"text\":\"Track Status: Yellow\",\"x\":[56.0],\"y\":[0],\"type\":\"scatter\"},{\"hoverinfo\":\"text\",\"mode\":\"markers\",\"showlegend\":false,\"text\":\"Track Status: Red\",\"x\":[56.0],\"y\":[0],\"type\":\"scatter\"},{\"hoverinfo\":\"text\",\"mode\":\"markers\",\"showlegend\":false,\"text\":\"Track Status: AllClear\",\"x\":[57.0],\"y\":[0],\"type\":\"scatter\"},{\"hoverinfo\":\"text\",\"mode\":\"markers\",\"showlegend\":false,\"text\":\"Track Status: Red\",\"x\":[58.0],\"y\":[0],\"type\":\"scatter\"}],                        {\"template\":{\"data\":{\"scatter\":[{\"type\":\"scatter\"}]}},\"xaxis\":{\"anchor\":\"y\",\"domain\":[0.0,1.0],\"title\":{\"text\":\"Lap Number\"}},\"yaxis\":{\"anchor\":\"x\",\"domain\":[0.0,1.0],\"title\":{\"text\":\"Percentage Difference\"}},\"legend\":{\"title\":{\"text\":\"Driver\"},\"tracegroupgap\":0},\"margin\":{\"t\":60},\"barmode\":\"relative\",\"title\":{\"text\":\"Percentage Difference in Lap Time between Laps\"},\"shapes\":[{\"line\":{\"color\":\"yellow\",\"dash\":\"dash\",\"width\":1},\"type\":\"line\",\"x0\":1.0,\"x1\":1.0,\"xref\":\"x\",\"y0\":0,\"y1\":1,\"yref\":\"y domain\"},{\"line\":{\"color\":\"green\",\"dash\":\"dash\",\"width\":1},\"type\":\"line\",\"x0\":1.0,\"x1\":1.0,\"xref\":\"x\",\"y0\":0,\"y1\":1,\"yref\":\"y domain\"},{\"line\":{\"color\":\"yellow\",\"dash\":\"dash\",\"width\":1},\"type\":\"line\",\"x0\":1.0,\"x1\":1.0,\"xref\":\"x\",\"y0\":0,\"y1\":1,\"yref\":\"y domain\"},{\"line\":{\"color\":\"green\",\"dash\":\"dash\",\"width\":1},\"type\":\"line\",\"x0\":1.0,\"x1\":1.0,\"xref\":\"x\",\"y0\":0,\"y1\":1,\"yref\":\"y domain\"},{\"line\":{\"color\":\"yellow\",\"dash\":\"dash\",\"width\":1},\"type\":\"line\",\"x0\":1.0,\"x1\":1.0,\"xref\":\"x\",\"y0\":0,\"y1\":1,\"yref\":\"y domain\"},{\"line\":{\"color\":\"purple\",\"dash\":\"dash\",\"width\":1},\"type\":\"line\",\"x0\":1.0,\"x1\":1.0,\"xref\":\"x\",\"y0\":0,\"y1\":1,\"yref\":\"y domain\"},{\"line\":{\"color\":\"green\",\"dash\":\"dash\",\"width\":1},\"type\":\"line\",\"x0\":3.0,\"x1\":3.0,\"xref\":\"x\",\"y0\":0,\"y1\":1,\"yref\":\"y domain\"},{\"line\":{\"color\":\"yellow\",\"dash\":\"dash\",\"width\":1},\"type\":\"line\",\"x0\":6.0,\"x1\":6.0,\"xref\":\"x\",\"y0\":0,\"y1\":1,\"yref\":\"y domain\"},{\"line\":{\"color\":\"purple\",\"dash\":\"dash\",\"width\":1},\"type\":\"line\",\"x0\":7.0,\"x1\":7.0,\"xref\":\"x\",\"y0\":0,\"y1\":1,\"yref\":\"y domain\"},{\"line\":{\"color\":\"red\",\"dash\":\"dash\",\"width\":1},\"type\":\"line\",\"x0\":7.0,\"x1\":7.0,\"xref\":\"x\",\"y0\":0,\"y1\":1,\"yref\":\"y domain\"},{\"line\":{\"color\":\"green\",\"dash\":\"dash\",\"width\":1},\"type\":\"line\",\"x0\":8.0,\"x1\":8.0,\"xref\":\"x\",\"y0\":0,\"y1\":1,\"yref\":\"y domain\"},{\"line\":{\"color\":\"violet\",\"dash\":\"dash\",\"width\":1},\"type\":\"line\",\"x0\":17.0,\"x1\":17.0,\"xref\":\"x\",\"y0\":0,\"y1\":1,\"yref\":\"y domain\"},{\"line\":{\"color\":\"orange\",\"dash\":\"dash\",\"width\":1},\"type\":\"line\",\"x0\":19.0,\"x1\":19.0,\"xref\":\"x\",\"y0\":0,\"y1\":1,\"yref\":\"y domain\"},{\"line\":{\"color\":\"green\",\"dash\":\"dash\",\"width\":1},\"type\":\"line\",\"x0\":19.0,\"x1\":19.0,\"xref\":\"x\",\"y0\":0,\"y1\":1,\"yref\":\"y domain\"},{\"line\":{\"color\":\"yellow\",\"dash\":\"dash\",\"width\":1},\"type\":\"line\",\"x0\":53.0,\"x1\":53.0,\"xref\":\"x\",\"y0\":0,\"y1\":1,\"yref\":\"y domain\"},{\"line\":{\"color\":\"green\",\"dash\":\"dash\",\"width\":1},\"type\":\"line\",\"x0\":53.0,\"x1\":53.0,\"xref\":\"x\",\"y0\":0,\"y1\":1,\"yref\":\"y domain\"},{\"line\":{\"color\":\"purple\",\"dash\":\"dash\",\"width\":1},\"type\":\"line\",\"x0\":54.0,\"x1\":54.0,\"xref\":\"x\",\"y0\":0,\"y1\":1,\"yref\":\"y domain\"},{\"line\":{\"color\":\"red\",\"dash\":\"dash\",\"width\":1},\"type\":\"line\",\"x0\":55.0,\"x1\":55.0,\"xref\":\"x\",\"y0\":0,\"y1\":1,\"yref\":\"y domain\"},{\"line\":{\"color\":\"green\",\"dash\":\"dash\",\"width\":1},\"type\":\"line\",\"x0\":55.0,\"x1\":55.0,\"xref\":\"x\",\"y0\":0,\"y1\":1,\"yref\":\"y domain\"},{\"line\":{\"color\":\"yellow\",\"dash\":\"dash\",\"width\":1},\"type\":\"line\",\"x0\":56.0,\"x1\":56.0,\"xref\":\"x\",\"y0\":0,\"y1\":1,\"yref\":\"y domain\"},{\"line\":{\"color\":\"red\",\"dash\":\"dash\",\"width\":1},\"type\":\"line\",\"x0\":56.0,\"x1\":56.0,\"xref\":\"x\",\"y0\":0,\"y1\":1,\"yref\":\"y domain\"},{\"line\":{\"color\":\"green\",\"dash\":\"dash\",\"width\":1},\"type\":\"line\",\"x0\":57.0,\"x1\":57.0,\"xref\":\"x\",\"y0\":0,\"y1\":1,\"yref\":\"y domain\"},{\"line\":{\"color\":\"red\",\"dash\":\"dash\",\"width\":1},\"type\":\"line\",\"x0\":58.0,\"x1\":58.0,\"xref\":\"x\",\"y0\":0,\"y1\":1,\"yref\":\"y domain\"}]},                        {\"responsive\": true}                    ).then(function(){\n",
              "                            \n",
              "var gd = document.getElementById('2b82cead-4464-4310-bb4b-fa2f0b59dc7a');\n",
              "var x = new MutationObserver(function (mutations, observer) {{\n",
              "        var display = window.getComputedStyle(gd).display;\n",
              "        if (!display || display === 'none') {{\n",
              "            console.log([gd, 'removed!']);\n",
              "            Plotly.purge(gd);\n",
              "            observer.disconnect();\n",
              "        }}\n",
              "}});\n",
              "\n",
              "// Listen for the removal of the full notebook cells\n",
              "var notebookContainer = gd.closest('#notebook-container');\n",
              "if (notebookContainer) {{\n",
              "    x.observe(notebookContainer, {childList: true});\n",
              "}}\n",
              "\n",
              "// Listen for the clearing of the current output cell\n",
              "var outputEl = gd.closest('.output');\n",
              "if (outputEl) {{\n",
              "    x.observe(outputEl, {childList: true});\n",
              "}}\n",
              "\n",
              "                        })                };                            </script>        </div>\n",
              "</body>\n",
              "</html>"
            ]
          },
          "metadata": {}
        }
      ]
    },
    {
      "cell_type": "markdown",
      "source": [
        "As you can see laps effected by events like SafetyCar periods are filtered out.\n",
        "\n",
        "The remaining data shows that the driver performence differed always around 1% aside of lap 11 and 12. Moreover the difference between each lap decreased in the end of the qualifying with values around 0.3% decreasing of laptime. The driver performece became more and more stable to the end of the qualifying.\n",
        "\n",
        "To evaluate the percentage performence per lap we could also calculate the average time per lap and calculate the percentage difference to the average."
      ],
      "metadata": {
        "id": "-8Y143DFEi28"
      }
    },
    {
      "cell_type": "code",
      "metadata": {
        "id": "pRVnZri1AcIN"
      },
      "source": [
        "# average lap time\n",
        "av = qualifying_without_outliers['LapTime'].mean()\n",
        "\n",
        "# Calculate percentage difference to average lap time\n",
        "qualifying_without_outliers['LapTimePercentageDifferenceToAverage'] = ((qualifying_without_outliers['LapTime'].dt.total_seconds() - av.total_seconds()) / av.total_seconds()) * 100"
      ],
      "execution_count": 110,
      "outputs": []
    },
    {
      "cell_type": "code",
      "source": [
        "import plotly.express as px\n",
        "import plotly.graph_objects as go\n",
        "\n",
        "fig\n",
        "fig = px.bar(qualifying_without_outliers, x='LapNumber', y='LapTimePercentageDifferenceToAverage', template='none', color='Driver')\n",
        "fig.update_layout(title='Percentage Difference to Average Lap Time per Lap (Qualifying)',\n",
        "                  xaxis_title='Lap Number',\n",
        "                  yaxis_title='Percentage Difference to Average')\n",
        "\n",
        "# Add vertical lines for track status changes\n",
        "for index, row in qualifying.track_status.iterrows():\n",
        "    # Find the closest lap number in filtered_qualifying based on time\n",
        "    closest_lap = filtered_qualifying.loc[filtered_qualifying['Time'].sub(row['Time']).abs().idxmin()]\n",
        "    fig.add_vline(x=closest_lap['LapNumber'], line_width=1, line_dash=\"dash\", line_color=track_status_colors[row['Message']])\n",
        "\n",
        "    # Add hover information using a scatter trace with invisible markers\n",
        "    fig.add_trace(go.Scatter(\n",
        "        x=[closest_lap['LapNumber']],\n",
        "        y=[0], # Place the marker at y=0 for bar charts\n",
        "        mode='markers',\n",
        "        hoverinfo='text',\n",
        "        text=f\"Track Status: {row['Message']}\",\n",
        "        showlegend=False # Hide this trace from the legend\n",
        "    ))\n",
        "\n",
        "fig.show()"
      ],
      "metadata": {
        "colab": {
          "base_uri": "https://localhost:8080/",
          "height": 542
        },
        "id": "_oyOuWIrM-iZ",
        "outputId": "f1554fed-ea80-4ec5-fa00-14060d998e1d"
      },
      "execution_count": 111,
      "outputs": [
        {
          "output_type": "display_data",
          "data": {
            "text/html": [
              "<html>\n",
              "<head><meta charset=\"utf-8\" /></head>\n",
              "<body>\n",
              "    <div>            <script src=\"https://cdnjs.cloudflare.com/ajax/libs/mathjax/2.7.5/MathJax.js?config=TeX-AMS-MML_SVG\"></script><script type=\"text/javascript\">if (window.MathJax && window.MathJax.Hub && window.MathJax.Hub.Config) {window.MathJax.Hub.Config({SVG: {font: \"STIX-Web\"}});}</script>                <script type=\"text/javascript\">window.PlotlyConfig = {MathJaxConfig: 'local'};</script>\n",
              "        <script charset=\"utf-8\" src=\"https://cdn.plot.ly/plotly-2.35.2.min.js\"></script>                <div id=\"9a9f6b91-de8e-444d-8604-f5d0f15c4774\" class=\"plotly-graph-div\" style=\"height:525px; width:100%;\"></div>            <script type=\"text/javascript\">                                    window.PLOTLYENV=window.PLOTLYENV || {};                                    if (document.getElementById(\"9a9f6b91-de8e-444d-8604-f5d0f15c4774\")) {                    Plotly.newPlot(                        \"9a9f6b91-de8e-444d-8604-f5d0f15c4774\",                        [{\"alignmentgroup\":\"True\",\"hovertemplate\":\"Driver=VER\\u003cbr\\u003eLapNumber=%{x}\\u003cbr\\u003eLapTimePercentageDifferenceToAverage=%{y}\\u003cextra\\u003e\\u003c\\u002fextra\\u003e\",\"legendgroup\":\"VER\",\"marker\":{\"color\":\"#1F77B4\",\"pattern\":{\"shape\":\"\"}},\"name\":\"VER\",\"offsetgroup\":\"VER\",\"orientation\":\"v\",\"showlegend\":true,\"textposition\":\"auto\",\"x\":[4.0,5.0,6.0,11.0,12.0,13.0,14.0,15.0,16.0,17.0,20.0,21.0,22.0,23.0,24.0,25.0,26.0,27.0,28.0,29.0,30.0,31.0,32.0,33.0,34.0,35.0,36.0,37.0,38.0,39.0,40.0,41.0,42.0,43.0,44.0,45.0,46.0,47.0,48.0,49.0,50.0,51.0,52.0,53.0],\"xaxis\":\"x\",\"y\":[1.7501499207458957,1.3999647325690576,1.081503638094663,1.834340784802332,0.04558996296528889,1.6220333884860747,1.1132277317970891,1.0497795443922198,0.7837852202718527,0.7789045904714729,0.527552155752211,0.18712822717613284,0.3811332617410045,0.2884012955338902,-0.1386538119988229,0.17980728247557165,0.0187464990632254,-0.03982105854124681,-0.03738074364106552,-0.22528499095545793,0.05535122256603137,0.08219468646809486,0.06755279706697247,-0.16793759080106768,-0.07642578204405277,-0.3363193189139751,-0.274091288959205,-0.6755230900399539,-0.7780163158478107,-0.4619955362735974,-1.0720742613203402,-1.1843287467289396,-0.9866632398138047,-0.9647004057121211,-1.0586525293693174,-1.402736930295676,-1.5296333051053976,2.623782655012824,-1.0781750485708195,-1.9701101445891513,-1.8127098335270855,-1.6162644840620328,-1.4869277943521297,-1.568678343508385],\"yaxis\":\"y\",\"type\":\"bar\"},{\"alignmentgroup\":\"True\",\"hovertemplate\":\"Driver=SAI\\u003cbr\\u003eLapNumber=%{x}\\u003cbr\\u003eLapTimePercentageDifferenceToAverage=%{y}\\u003cextra\\u003e\\u003c\\u002fextra\\u003e\",\"legendgroup\":\"SAI\",\"marker\":{\"color\":\"#FF7F0E\",\"pattern\":{\"shape\":\"\"}},\"name\":\"SAI\",\"offsetgroup\":\"SAI\",\"orientation\":\"v\",\"showlegend\":true,\"textposition\":\"auto\",\"x\":[4.0,5.0,6.0,11.0,12.0,13.0,14.0,15.0,16.0,17.0,20.0,21.0,22.0,23.0,24.0,25.0,26.0,27.0,28.0,29.0,30.0,31.0,32.0,33.0,34.0,35.0,36.0,37.0,38.0,39.0,40.0,41.0,42.0,43.0,44.0,45.0,46.0,47.0,48.0,49.0,50.0,51.0,52.0,53.0],\"xaxis\":\"x\",\"y\":[2.35778833089244,1.537842524429621,1.0400182847914772,3.02155398374331,1.5158796903279375,1.1046866296464286,1.2218217448554078,0.7691433308707304,1.5476037840303636,1.205959698004186,0.17736696757539036,0.2359345251798799,1.154713085100275,0.6910532540647385,0.5714778239555782,1.265747413058775,0.5873398708067998,0.17370649522510975,-0.04592184579172603,0.5556157771043738,0.2420353124303418,-0.12523208004779984,0.03582870336454641,-0.22772530585565653,-0.09716845869565438,-0.32289758696295207,-0.31923711461267146,-0.36316278281602127,-0.4937196299760234,-0.1276723949479811,-0.017858224439580565,-0.6645416729891122,-0.7523930093958465,-1.0769548911207203,-0.7560534817461271,-0.7975388350493129,-0.7914380477988336,-1.1269813465745493,-0.8805095416556673,-1.0427904825180956,-1.203851265930442,-1.3795539387439106,-1.5101107859039127,-1.8175904633274655],\"yaxis\":\"y\",\"type\":\"bar\"},{\"hoverinfo\":\"text\",\"mode\":\"markers\",\"showlegend\":false,\"text\":\"Track Status: Yellow\",\"x\":[1.0],\"y\":[0],\"type\":\"scatter\"},{\"hoverinfo\":\"text\",\"mode\":\"markers\",\"showlegend\":false,\"text\":\"Track Status: AllClear\",\"x\":[1.0],\"y\":[0],\"type\":\"scatter\"},{\"hoverinfo\":\"text\",\"mode\":\"markers\",\"showlegend\":false,\"text\":\"Track Status: Yellow\",\"x\":[1.0],\"y\":[0],\"type\":\"scatter\"},{\"hoverinfo\":\"text\",\"mode\":\"markers\",\"showlegend\":false,\"text\":\"Track Status: AllClear\",\"x\":[1.0],\"y\":[0],\"type\":\"scatter\"},{\"hoverinfo\":\"text\",\"mode\":\"markers\",\"showlegend\":false,\"text\":\"Track Status: Yellow\",\"x\":[1.0],\"y\":[0],\"type\":\"scatter\"},{\"hoverinfo\":\"text\",\"mode\":\"markers\",\"showlegend\":false,\"text\":\"Track Status: SCDeployed\",\"x\":[1.0],\"y\":[0],\"type\":\"scatter\"},{\"hoverinfo\":\"text\",\"mode\":\"markers\",\"showlegend\":false,\"text\":\"Track Status: AllClear\",\"x\":[3.0],\"y\":[0],\"type\":\"scatter\"},{\"hoverinfo\":\"text\",\"mode\":\"markers\",\"showlegend\":false,\"text\":\"Track Status: Yellow\",\"x\":[6.0],\"y\":[0],\"type\":\"scatter\"},{\"hoverinfo\":\"text\",\"mode\":\"markers\",\"showlegend\":false,\"text\":\"Track Status: SCDeployed\",\"x\":[7.0],\"y\":[0],\"type\":\"scatter\"},{\"hoverinfo\":\"text\",\"mode\":\"markers\",\"showlegend\":false,\"text\":\"Track Status: Red\",\"x\":[7.0],\"y\":[0],\"type\":\"scatter\"},{\"hoverinfo\":\"text\",\"mode\":\"markers\",\"showlegend\":false,\"text\":\"Track Status: AllClear\",\"x\":[8.0],\"y\":[0],\"type\":\"scatter\"},{\"hoverinfo\":\"text\",\"mode\":\"markers\",\"showlegend\":false,\"text\":\"Track Status: VSCDeployed\",\"x\":[17.0],\"y\":[0],\"type\":\"scatter\"},{\"hoverinfo\":\"text\",\"mode\":\"markers\",\"showlegend\":false,\"text\":\"Track Status: VSCEnding\",\"x\":[19.0],\"y\":[0],\"type\":\"scatter\"},{\"hoverinfo\":\"text\",\"mode\":\"markers\",\"showlegend\":false,\"text\":\"Track Status: AllClear\",\"x\":[19.0],\"y\":[0],\"type\":\"scatter\"},{\"hoverinfo\":\"text\",\"mode\":\"markers\",\"showlegend\":false,\"text\":\"Track Status: Yellow\",\"x\":[53.0],\"y\":[0],\"type\":\"scatter\"},{\"hoverinfo\":\"text\",\"mode\":\"markers\",\"showlegend\":false,\"text\":\"Track Status: AllClear\",\"x\":[53.0],\"y\":[0],\"type\":\"scatter\"},{\"hoverinfo\":\"text\",\"mode\":\"markers\",\"showlegend\":false,\"text\":\"Track Status: SCDeployed\",\"x\":[54.0],\"y\":[0],\"type\":\"scatter\"},{\"hoverinfo\":\"text\",\"mode\":\"markers\",\"showlegend\":false,\"text\":\"Track Status: Red\",\"x\":[55.0],\"y\":[0],\"type\":\"scatter\"},{\"hoverinfo\":\"text\",\"mode\":\"markers\",\"showlegend\":false,\"text\":\"Track Status: AllClear\",\"x\":[55.0],\"y\":[0],\"type\":\"scatter\"},{\"hoverinfo\":\"text\",\"mode\":\"markers\",\"showlegend\":false,\"text\":\"Track Status: Yellow\",\"x\":[56.0],\"y\":[0],\"type\":\"scatter\"},{\"hoverinfo\":\"text\",\"mode\":\"markers\",\"showlegend\":false,\"text\":\"Track Status: Red\",\"x\":[56.0],\"y\":[0],\"type\":\"scatter\"},{\"hoverinfo\":\"text\",\"mode\":\"markers\",\"showlegend\":false,\"text\":\"Track Status: AllClear\",\"x\":[57.0],\"y\":[0],\"type\":\"scatter\"},{\"hoverinfo\":\"text\",\"mode\":\"markers\",\"showlegend\":false,\"text\":\"Track Status: Red\",\"x\":[58.0],\"y\":[0],\"type\":\"scatter\"}],                        {\"template\":{\"data\":{\"scatter\":[{\"type\":\"scatter\"}]}},\"xaxis\":{\"anchor\":\"y\",\"domain\":[0.0,1.0],\"title\":{\"text\":\"Lap Number\"}},\"yaxis\":{\"anchor\":\"x\",\"domain\":[0.0,1.0],\"title\":{\"text\":\"Percentage Difference to Average\"}},\"legend\":{\"title\":{\"text\":\"Driver\"},\"tracegroupgap\":0},\"margin\":{\"t\":60},\"barmode\":\"relative\",\"title\":{\"text\":\"Percentage Difference to Average Lap Time per Lap (Qualifying)\"},\"shapes\":[{\"line\":{\"color\":\"yellow\",\"dash\":\"dash\",\"width\":1},\"type\":\"line\",\"x0\":1.0,\"x1\":1.0,\"xref\":\"x\",\"y0\":0,\"y1\":1,\"yref\":\"y domain\"},{\"line\":{\"color\":\"green\",\"dash\":\"dash\",\"width\":1},\"type\":\"line\",\"x0\":1.0,\"x1\":1.0,\"xref\":\"x\",\"y0\":0,\"y1\":1,\"yref\":\"y domain\"},{\"line\":{\"color\":\"yellow\",\"dash\":\"dash\",\"width\":1},\"type\":\"line\",\"x0\":1.0,\"x1\":1.0,\"xref\":\"x\",\"y0\":0,\"y1\":1,\"yref\":\"y domain\"},{\"line\":{\"color\":\"green\",\"dash\":\"dash\",\"width\":1},\"type\":\"line\",\"x0\":1.0,\"x1\":1.0,\"xref\":\"x\",\"y0\":0,\"y1\":1,\"yref\":\"y domain\"},{\"line\":{\"color\":\"yellow\",\"dash\":\"dash\",\"width\":1},\"type\":\"line\",\"x0\":1.0,\"x1\":1.0,\"xref\":\"x\",\"y0\":0,\"y1\":1,\"yref\":\"y domain\"},{\"line\":{\"color\":\"purple\",\"dash\":\"dash\",\"width\":1},\"type\":\"line\",\"x0\":1.0,\"x1\":1.0,\"xref\":\"x\",\"y0\":0,\"y1\":1,\"yref\":\"y domain\"},{\"line\":{\"color\":\"green\",\"dash\":\"dash\",\"width\":1},\"type\":\"line\",\"x0\":3.0,\"x1\":3.0,\"xref\":\"x\",\"y0\":0,\"y1\":1,\"yref\":\"y domain\"},{\"line\":{\"color\":\"yellow\",\"dash\":\"dash\",\"width\":1},\"type\":\"line\",\"x0\":6.0,\"x1\":6.0,\"xref\":\"x\",\"y0\":0,\"y1\":1,\"yref\":\"y domain\"},{\"line\":{\"color\":\"purple\",\"dash\":\"dash\",\"width\":1},\"type\":\"line\",\"x0\":7.0,\"x1\":7.0,\"xref\":\"x\",\"y0\":0,\"y1\":1,\"yref\":\"y domain\"},{\"line\":{\"color\":\"red\",\"dash\":\"dash\",\"width\":1},\"type\":\"line\",\"x0\":7.0,\"x1\":7.0,\"xref\":\"x\",\"y0\":0,\"y1\":1,\"yref\":\"y domain\"},{\"line\":{\"color\":\"green\",\"dash\":\"dash\",\"width\":1},\"type\":\"line\",\"x0\":8.0,\"x1\":8.0,\"xref\":\"x\",\"y0\":0,\"y1\":1,\"yref\":\"y domain\"},{\"line\":{\"color\":\"violet\",\"dash\":\"dash\",\"width\":1},\"type\":\"line\",\"x0\":17.0,\"x1\":17.0,\"xref\":\"x\",\"y0\":0,\"y1\":1,\"yref\":\"y domain\"},{\"line\":{\"color\":\"orange\",\"dash\":\"dash\",\"width\":1},\"type\":\"line\",\"x0\":19.0,\"x1\":19.0,\"xref\":\"x\",\"y0\":0,\"y1\":1,\"yref\":\"y domain\"},{\"line\":{\"color\":\"green\",\"dash\":\"dash\",\"width\":1},\"type\":\"line\",\"x0\":19.0,\"x1\":19.0,\"xref\":\"x\",\"y0\":0,\"y1\":1,\"yref\":\"y domain\"},{\"line\":{\"color\":\"yellow\",\"dash\":\"dash\",\"width\":1},\"type\":\"line\",\"x0\":53.0,\"x1\":53.0,\"xref\":\"x\",\"y0\":0,\"y1\":1,\"yref\":\"y domain\"},{\"line\":{\"color\":\"green\",\"dash\":\"dash\",\"width\":1},\"type\":\"line\",\"x0\":53.0,\"x1\":53.0,\"xref\":\"x\",\"y0\":0,\"y1\":1,\"yref\":\"y domain\"},{\"line\":{\"color\":\"purple\",\"dash\":\"dash\",\"width\":1},\"type\":\"line\",\"x0\":54.0,\"x1\":54.0,\"xref\":\"x\",\"y0\":0,\"y1\":1,\"yref\":\"y domain\"},{\"line\":{\"color\":\"red\",\"dash\":\"dash\",\"width\":1},\"type\":\"line\",\"x0\":55.0,\"x1\":55.0,\"xref\":\"x\",\"y0\":0,\"y1\":1,\"yref\":\"y domain\"},{\"line\":{\"color\":\"green\",\"dash\":\"dash\",\"width\":1},\"type\":\"line\",\"x0\":55.0,\"x1\":55.0,\"xref\":\"x\",\"y0\":0,\"y1\":1,\"yref\":\"y domain\"},{\"line\":{\"color\":\"yellow\",\"dash\":\"dash\",\"width\":1},\"type\":\"line\",\"x0\":56.0,\"x1\":56.0,\"xref\":\"x\",\"y0\":0,\"y1\":1,\"yref\":\"y domain\"},{\"line\":{\"color\":\"red\",\"dash\":\"dash\",\"width\":1},\"type\":\"line\",\"x0\":56.0,\"x1\":56.0,\"xref\":\"x\",\"y0\":0,\"y1\":1,\"yref\":\"y domain\"},{\"line\":{\"color\":\"green\",\"dash\":\"dash\",\"width\":1},\"type\":\"line\",\"x0\":57.0,\"x1\":57.0,\"xref\":\"x\",\"y0\":0,\"y1\":1,\"yref\":\"y domain\"},{\"line\":{\"color\":\"red\",\"dash\":\"dash\",\"width\":1},\"type\":\"line\",\"x0\":58.0,\"x1\":58.0,\"xref\":\"x\",\"y0\":0,\"y1\":1,\"yref\":\"y domain\"}]},                        {\"responsive\": true}                    ).then(function(){\n",
              "                            \n",
              "var gd = document.getElementById('9a9f6b91-de8e-444d-8604-f5d0f15c4774');\n",
              "var x = new MutationObserver(function (mutations, observer) {{\n",
              "        var display = window.getComputedStyle(gd).display;\n",
              "        if (!display || display === 'none') {{\n",
              "            console.log([gd, 'removed!']);\n",
              "            Plotly.purge(gd);\n",
              "            observer.disconnect();\n",
              "        }}\n",
              "}});\n",
              "\n",
              "// Listen for the removal of the full notebook cells\n",
              "var notebookContainer = gd.closest('#notebook-container');\n",
              "if (notebookContainer) {{\n",
              "    x.observe(notebookContainer, {childList: true});\n",
              "}}\n",
              "\n",
              "// Listen for the clearing of the current output cell\n",
              "var outputEl = gd.closest('.output');\n",
              "if (outputEl) {{\n",
              "    x.observe(outputEl, {childList: true});\n",
              "}}\n",
              "\n",
              "                        })                };                            </script>        </div>\n",
              "</body>\n",
              "</html>"
            ]
          },
          "metadata": {}
        }
      ]
    },
    {
      "cell_type": "markdown",
      "source": [
        "The percentage difference to the average performece is evenly distributed. While in the beginning of the qualifying lap times were always higher then the average performece, after lap 31 the performence per lap was always better then the average.\n",
        "\n",
        "Improved lap times were apparently the result of getting accustomed to the circuit with each passing lap. As a result the fastest Lap for Carlos Sainz Junior was Lap 53:"
      ],
      "metadata": {
        "id": "TXMonB3pEXQL"
      }
    },
    {
      "cell_type": "code",
      "source": [
        "filtered_qualifying.pick_fastest().LapNumber"
      ],
      "metadata": {
        "colab": {
          "base_uri": "https://localhost:8080/"
        },
        "id": "87j9igbtFhov",
        "outputId": "642d53c6-3648-4f3a-d779-3e862f0a115c"
      },
      "execution_count": 17,
      "outputs": [
        {
          "output_type": "execute_result",
          "data": {
            "text/plain": [
              "np.float64(53.0)"
            ]
          },
          "metadata": {},
          "execution_count": 17
        }
      ]
    },
    {
      "cell_type": "code",
      "source": [
        "# Plotting tire compound over time\n",
        "fig = px.scatter(qualifying_without_outliers, x='LapNumber', y='Compound', color='Compound', template='none')\n",
        "fig.update_layout(title='Tire Compound during Race',\n",
        "                        xaxis_title='Lap Number',\n",
        "                        yaxis_title='Tire Compound')\n",
        "fig.show()"
      ],
      "metadata": {
        "colab": {
          "base_uri": "https://localhost:8080/",
          "height": 542
        },
        "id": "ubZ9qc1nz-Oj",
        "outputId": "ae26f4bb-c035-4772-c787-a3b46cf8c2fa"
      },
      "execution_count": 102,
      "outputs": [
        {
          "output_type": "display_data",
          "data": {
            "text/html": [
              "<html>\n",
              "<head><meta charset=\"utf-8\" /></head>\n",
              "<body>\n",
              "    <div>            <script src=\"https://cdnjs.cloudflare.com/ajax/libs/mathjax/2.7.5/MathJax.js?config=TeX-AMS-MML_SVG\"></script><script type=\"text/javascript\">if (window.MathJax && window.MathJax.Hub && window.MathJax.Hub.Config) {window.MathJax.Hub.Config({SVG: {font: \"STIX-Web\"}});}</script>                <script type=\"text/javascript\">window.PlotlyConfig = {MathJaxConfig: 'local'};</script>\n",
              "        <script charset=\"utf-8\" src=\"https://cdn.plot.ly/plotly-2.35.2.min.js\"></script>                <div id=\"0e6a01e2-1c82-4066-bfd1-20d5fd7d1417\" class=\"plotly-graph-div\" style=\"height:525px; width:100%;\"></div>            <script type=\"text/javascript\">                                    window.PLOTLYENV=window.PLOTLYENV || {};                                    if (document.getElementById(\"0e6a01e2-1c82-4066-bfd1-20d5fd7d1417\")) {                    Plotly.newPlot(                        \"0e6a01e2-1c82-4066-bfd1-20d5fd7d1417\",                        [{\"hovertemplate\":\"Compound=%{y}\\u003cbr\\u003eLapNumber=%{x}\\u003cextra\\u003e\\u003c\\u002fextra\\u003e\",\"legendgroup\":\"MEDIUM\",\"marker\":{\"color\":\"#1F77B4\",\"symbol\":\"circle\"},\"mode\":\"markers\",\"name\":\"MEDIUM\",\"orientation\":\"h\",\"showlegend\":true,\"x\":[4.0,5.0,6.0],\"xaxis\":\"x\",\"y\":[\"MEDIUM\",\"MEDIUM\",\"MEDIUM\"],\"yaxis\":\"y\",\"type\":\"scatter\"},{\"hovertemplate\":\"Compound=%{y}\\u003cbr\\u003eLapNumber=%{x}\\u003cextra\\u003e\\u003c\\u002fextra\\u003e\",\"legendgroup\":\"HARD\",\"marker\":{\"color\":\"#FF7F0E\",\"symbol\":\"circle\"},\"mode\":\"markers\",\"name\":\"HARD\",\"orientation\":\"h\",\"showlegend\":true,\"x\":[11.0,12.0,13.0,14.0,15.0,16.0,17.0,20.0,21.0,22.0,23.0,24.0,25.0,26.0,27.0,28.0,29.0,30.0,31.0,32.0,33.0,34.0,35.0,36.0,37.0,38.0,39.0,40.0,41.0,42.0,43.0,44.0,45.0,46.0,47.0,48.0,49.0,50.0,51.0,52.0,53.0],\"xaxis\":\"x\",\"y\":[\"HARD\",\"HARD\",\"HARD\",\"HARD\",\"HARD\",\"HARD\",\"HARD\",\"HARD\",\"HARD\",\"HARD\",\"HARD\",\"HARD\",\"HARD\",\"HARD\",\"HARD\",\"HARD\",\"HARD\",\"HARD\",\"HARD\",\"HARD\",\"HARD\",\"HARD\",\"HARD\",\"HARD\",\"HARD\",\"HARD\",\"HARD\",\"HARD\",\"HARD\",\"HARD\",\"HARD\",\"HARD\",\"HARD\",\"HARD\",\"HARD\",\"HARD\",\"HARD\",\"HARD\",\"HARD\",\"HARD\",\"HARD\"],\"yaxis\":\"y\",\"type\":\"scatter\"}],                        {\"template\":{\"data\":{\"scatter\":[{\"type\":\"scatter\"}]}},\"xaxis\":{\"anchor\":\"y\",\"domain\":[0.0,1.0],\"title\":{\"text\":\"Lap Number\"}},\"yaxis\":{\"anchor\":\"x\",\"domain\":[0.0,1.0],\"title\":{\"text\":\"Tire Compound\"},\"categoryorder\":\"array\",\"categoryarray\":[\"HARD\",\"MEDIUM\"]},\"legend\":{\"title\":{\"text\":\"Compound\"},\"tracegroupgap\":0},\"margin\":{\"t\":60},\"title\":{\"text\":\"Tire Compound during Race\"}},                        {\"responsive\": true}                    ).then(function(){\n",
              "                            \n",
              "var gd = document.getElementById('0e6a01e2-1c82-4066-bfd1-20d5fd7d1417');\n",
              "var x = new MutationObserver(function (mutations, observer) {{\n",
              "        var display = window.getComputedStyle(gd).display;\n",
              "        if (!display || display === 'none') {{\n",
              "            console.log([gd, 'removed!']);\n",
              "            Plotly.purge(gd);\n",
              "            observer.disconnect();\n",
              "        }}\n",
              "}});\n",
              "\n",
              "// Listen for the removal of the full notebook cells\n",
              "var notebookContainer = gd.closest('#notebook-container');\n",
              "if (notebookContainer) {{\n",
              "    x.observe(notebookContainer, {childList: true});\n",
              "}}\n",
              "\n",
              "// Listen for the clearing of the current output cell\n",
              "var outputEl = gd.closest('.output');\n",
              "if (outputEl) {{\n",
              "    x.observe(outputEl, {childList: true});\n",
              "}}\n",
              "\n",
              "                        })                };                            </script>        </div>\n",
              "</body>\n",
              "</html>"
            ]
          },
          "metadata": {}
        }
      ]
    },
    {
      "cell_type": "code",
      "source": [
        "import plotly.graph_objects as go\n",
        "from plotly.subplots import make_subplots\n",
        "\n",
        "weather_df = qualifying.weather_data.copy() # Use weather data from qualifying session\n",
        "\n",
        "# Create subplots with multiple y-axes\n",
        "fig_weather = make_subplots(specs=[[{\"secondary_y\": True}]])\n",
        "\n",
        "# Add traces for each weather parameter\n",
        "fig_weather.add_trace(go.Scatter(x=weather_df['Time'], y=weather_df['AirTemp'], mode='lines', name='Air Temperature'), secondary_y=False)\n",
        "fig_weather.add_trace(go.Scatter(x=weather_df['Time'], y=weather_df['Humidity'], mode='lines', name='Humidity'), secondary_y=True)\n",
        "fig_weather.add_trace(go.Scatter(x=weather_df['Time'], y=weather_df['WindSpeed'], mode='lines', name='Wind Speed'), secondary_y=True)\n",
        "fig_weather.add_trace(go.Scatter(x=weather_df['Time'], y=weather_df['TrackTemp'], mode='lines', name='Track Temperature'), secondary_y=False)\n",
        "\n",
        "\n",
        "# Add shaded regions for rainfall\n",
        "for i in range(len(weather_df) - 1):\n",
        "    if weather_df['Rainfall'].iloc[i] == True:\n",
        "        fig_weather.add_shape(type=\"rect\",\n",
        "            x0=weather_df['Time'].iloc[i], y0=0, x1=weather_df['Time'].iloc[i+1], y1=1,\n",
        "            xref='x', yref='paper',\n",
        "            fillcolor=\"lightblue\",\n",
        "            opacity=0.5,\n",
        "            layer=\"below\",\n",
        "            line_width=0,\n",
        "        )\n",
        "\n",
        "\n",
        "# Update layout\n",
        "fig_weather.update_layout(\n",
        "    title_text=\"Weather Data during Qualifying\",\n",
        "    template='none'\n",
        ")\n",
        "\n",
        "# Set y-axes titles\n",
        "fig_weather.update_yaxes(title_text=\"Temperature (°C)\", secondary_y=False)\n",
        "fig_weather.update_yaxes(title_text=\"Humidity (%) / Wind Speed (m/s)\", secondary_y=True)\n",
        "\n",
        "\n",
        "fig_weather.show()"
      ],
      "metadata": {
        "colab": {
          "base_uri": "https://localhost:8080/",
          "height": 542
        },
        "id": "HmnBLL0v1DTm",
        "outputId": "c67bec4d-dd9f-4e61-a477-f96220d1d08a"
      },
      "execution_count": 104,
      "outputs": [
        {
          "output_type": "display_data",
          "data": {
            "text/html": [
              "<html>\n",
              "<head><meta charset=\"utf-8\" /></head>\n",
              "<body>\n",
              "    <div>            <script src=\"https://cdnjs.cloudflare.com/ajax/libs/mathjax/2.7.5/MathJax.js?config=TeX-AMS-MML_SVG\"></script><script type=\"text/javascript\">if (window.MathJax && window.MathJax.Hub && window.MathJax.Hub.Config) {window.MathJax.Hub.Config({SVG: {font: \"STIX-Web\"}});}</script>                <script type=\"text/javascript\">window.PlotlyConfig = {MathJaxConfig: 'local'};</script>\n",
              "        <script charset=\"utf-8\" src=\"https://cdn.plot.ly/plotly-2.35.2.min.js\"></script>                <div id=\"238cba2a-f7b7-4ae6-a36d-f84fc8801182\" class=\"plotly-graph-div\" style=\"height:525px; width:100%;\"></div>            <script type=\"text/javascript\">                                    window.PLOTLYENV=window.PLOTLYENV || {};                                    if (document.getElementById(\"238cba2a-f7b7-4ae6-a36d-f84fc8801182\")) {                    Plotly.newPlot(                        \"238cba2a-f7b7-4ae6-a36d-f84fc8801182\",                        [{\"mode\":\"lines\",\"name\":\"Air Temperature\",\"x\":[35812000000,95812000000,155811000000,215826000000,275825000000,335824000000,395808000000,455823000000,515822000000,575822000000,635821000000,695820000000,755820000000,815834000000,875818000000,935817000000,995832000000,1055816000000,1115815000000,1175815000000,1235814000000,1295829000000,1355813000000,1415812000000,1475811000000,1535826000000,1595810000000,1655825000000,1715824000000,1775823000000,1835823000000,1895822000000,1955821000000,2015820000000,2075820000000,2135819000000,2195818000000,2255818000000,2315817000000,2375816000000,2435816000000,2495815000000,2555814000000,2615813000000,2675813000000,2735812000000,2795811000000,2855826000000,2915810000000,2975825000000,3035824000000,3095824000000,3155823000000,3215822000000,3275821000000,3335821000000,3395820000000,3455819000000,3515819000000,3575818000000,3635833000000,3695817000000,3755816000000,3815815000000,3875814000000,3935814000000,3995813000000,4055812000000,4115812000000,4175811000000,4235810000000,4295810000000,4355824000000,4415824000000,4475823000000,4535822000000,4595822000000,4655821000000,4715836000000,4775820000000,4835803000000,4895818000000,4955818000000,5015864000000,5075816000000,5135816000000,5195815000000,5255830000000,5315813000000,5375828000000,5435828000000,5495827000000,5555857000000,5615826000000,5675809000000,5735824000000,5795823000000,5855870000000,5915822000000,5975821000000,6035821000000,6095836000000,6155835000000,6215850000000,6275818000000,6335848000000,6395832000000,6455863000000,6515909000000,6575861000000,6635876000000,6695860000000,6755875000000,6815890000000,6875873000000,6935888000000,6995888000000,7055887000000,7115902000000,7175917000000,7235932000000,7295947000000,7355946000000,7415945000000,7475945000000,7535960000000,7595943000000,7655958000000,7715942000000,7775957000000,7835940000000,7895940000000,7955939000000,8015954000000,8075938000000,8135937000000,8195952000000,8255951000000,8315951000000,8375950000000,8435949000000,8495964000000,8555979000000,8615994000000,8676025000000,8736008000000,8796008000000,8856007000000,8916006000000,8976068000000,9036020000000,9096035000000,9156035000000,9216050000000,9276096000000,9336048000000,9396032000000,9456047000000,9516046000000,9576046000000,9636061000000,9696075000000,9756075000000,9816121000000,9876073000000,9936073000000,9996072000000,10056071000000,10116071000000,10190961000000,10236069000000,10296069000000,10356068000000,10416067000000,10476082000000,10536066000000,10596081000000,10656080000000,10716673000000,10776063000000,10836078000000,10896093000000,10956077000000,11016076000000,11076075000000,11136075000000,11196074000000,11256073000000,11316073000000,11376072000000,11436071000000,11496071000000,11556070000000,11616069000000,11676069000000,11736068000000,11796067000000,11856067000000,11916066000000,11976065000000,12036064000000,12096095000000,12156079000000,12216094000000,12276109000000,12336108000000,12396123000000,12456122000000,12516121000000,12576136000000,12636136000000,12696135000000,12756150000000,12816165000000,12876164000000,12936179000000,12996194000000,13056178000000,13116193000000,13176192000000,13236207000000,13296237000000],\"y\":[17.1,17.2,17.2,17.3,17.3,17.3,17.3,17.3,17.2,17.2,17.3,17.1,17.1,17.1,17.2,17.3,17.2,17.2,17.2,17.2,17.2,17.1,17.0,17.2,17.6,17.7,17.5,17.5,17.5,17.6,17.5,17.5,17.2,17.2,17.2,17.3,17.4,17.4,17.4,17.5,17.5,17.5,17.5,17.5,17.5,17.6,17.5,17.5,17.5,17.4,17.5,17.5,17.5,17.5,17.5,17.5,17.4,17.4,17.3,17.3,17.4,17.4,17.4,17.4,17.5,17.6,17.6,17.6,17.8,17.8,17.8,17.7,17.8,17.8,17.8,17.7,17.6,17.5,17.6,17.7,17.6,17.6,17.7,17.8,17.9,17.8,17.8,17.9,17.9,17.9,17.9,17.8,17.6,17.6,17.7,17.9,18.0,18.0,18.0,18.0,18.0,18.0,18.0,18.1,18.0,18.1,17.9,17.9,18.0,17.9,17.9,17.9,17.8,17.9,17.8,17.8,17.7,17.8,17.7,17.7,17.8,17.8,17.7,17.7,17.8,17.8,17.9,17.9,17.9,18.0,17.9,17.9,17.9,17.8,17.8,17.9,17.9,17.8,17.7,17.6,17.6,17.6,17.6,17.6,17.6,17.5,17.5,17.5,17.5,17.5,17.5,17.5,17.5,17.5,17.5,17.5,17.5,17.5,17.5,17.5,17.5,17.4,17.4,17.3,17.2,17.3,17.3,17.3,17.2,17.2,17.3,17.3,17.3,17.2,17.3,17.2,17.3,17.2,17.2,17.2,17.1,17.2,17.2,17.2,17.2,17.2,17.2,17.1,17.2,17.1,17.1,17.1,17.1,17.0,17.0,16.9,17.0,17.0,16.9,16.9,16.9,16.8,16.9,16.9,16.9,16.9,16.8,16.8,16.9,16.9,16.9,16.9,16.9,16.9,16.9,16.9,16.9,16.9,16.9,16.9,16.9,16.9],\"type\":\"scatter\",\"xaxis\":\"x\",\"yaxis\":\"y\"},{\"mode\":\"lines\",\"name\":\"Humidity\",\"x\":[35812000000,95812000000,155811000000,215826000000,275825000000,335824000000,395808000000,455823000000,515822000000,575822000000,635821000000,695820000000,755820000000,815834000000,875818000000,935817000000,995832000000,1055816000000,1115815000000,1175815000000,1235814000000,1295829000000,1355813000000,1415812000000,1475811000000,1535826000000,1595810000000,1655825000000,1715824000000,1775823000000,1835823000000,1895822000000,1955821000000,2015820000000,2075820000000,2135819000000,2195818000000,2255818000000,2315817000000,2375816000000,2435816000000,2495815000000,2555814000000,2615813000000,2675813000000,2735812000000,2795811000000,2855826000000,2915810000000,2975825000000,3035824000000,3095824000000,3155823000000,3215822000000,3275821000000,3335821000000,3395820000000,3455819000000,3515819000000,3575818000000,3635833000000,3695817000000,3755816000000,3815815000000,3875814000000,3935814000000,3995813000000,4055812000000,4115812000000,4175811000000,4235810000000,4295810000000,4355824000000,4415824000000,4475823000000,4535822000000,4595822000000,4655821000000,4715836000000,4775820000000,4835803000000,4895818000000,4955818000000,5015864000000,5075816000000,5135816000000,5195815000000,5255830000000,5315813000000,5375828000000,5435828000000,5495827000000,5555857000000,5615826000000,5675809000000,5735824000000,5795823000000,5855870000000,5915822000000,5975821000000,6035821000000,6095836000000,6155835000000,6215850000000,6275818000000,6335848000000,6395832000000,6455863000000,6515909000000,6575861000000,6635876000000,6695860000000,6755875000000,6815890000000,6875873000000,6935888000000,6995888000000,7055887000000,7115902000000,7175917000000,7235932000000,7295947000000,7355946000000,7415945000000,7475945000000,7535960000000,7595943000000,7655958000000,7715942000000,7775957000000,7835940000000,7895940000000,7955939000000,8015954000000,8075938000000,8135937000000,8195952000000,8255951000000,8315951000000,8375950000000,8435949000000,8495964000000,8555979000000,8615994000000,8676025000000,8736008000000,8796008000000,8856007000000,8916006000000,8976068000000,9036020000000,9096035000000,9156035000000,9216050000000,9276096000000,9336048000000,9396032000000,9456047000000,9516046000000,9576046000000,9636061000000,9696075000000,9756075000000,9816121000000,9876073000000,9936073000000,9996072000000,10056071000000,10116071000000,10190961000000,10236069000000,10296069000000,10356068000000,10416067000000,10476082000000,10536066000000,10596081000000,10656080000000,10716673000000,10776063000000,10836078000000,10896093000000,10956077000000,11016076000000,11076075000000,11136075000000,11196074000000,11256073000000,11316073000000,11376072000000,11436071000000,11496071000000,11556070000000,11616069000000,11676069000000,11736068000000,11796067000000,11856067000000,11916066000000,11976065000000,12036064000000,12096095000000,12156079000000,12216094000000,12276109000000,12336108000000,12396123000000,12456122000000,12516121000000,12576136000000,12636136000000,12696135000000,12756150000000,12816165000000,12876164000000,12936179000000,12996194000000,13056178000000,13116193000000,13176192000000,13236207000000,13296237000000],\"y\":[53.0,52.0,52.0,51.0,51.0,51.0,51.0,51.0,52.0,51.0,52.0,53.0,50.0,51.0,51.0,51.0,52.0,52.0,53.0,53.0,51.0,52.0,53.0,53.0,50.0,50.0,51.0,51.0,51.0,51.0,51.0,52.0,52.0,54.0,52.0,52.0,51.0,50.0,50.0,50.0,52.0,52.0,52.0,53.0,54.0,53.0,53.0,51.0,51.0,53.0,52.0,52.0,53.0,52.0,52.0,51.0,52.0,51.0,52.0,53.0,53.0,53.0,52.0,52.0,53.0,53.0,53.0,52.0,52.0,52.0,52.0,52.0,51.0,51.0,52.0,53.0,52.0,50.0,50.0,51.0,51.0,51.0,51.0,52.0,52.0,52.0,52.0,52.0,53.0,53.0,52.0,52.0,51.0,52.0,52.0,52.0,52.0,52.0,51.0,51.0,52.0,51.0,50.0,51.0,51.0,51.0,50.0,51.0,51.0,51.0,51.0,51.0,54.0,54.0,53.0,53.0,55.0,53.0,53.0,52.0,54.0,54.0,54.0,54.0,54.0,54.0,54.0,54.0,53.0,53.0,54.0,54.0,55.0,55.0,55.0,55.0,55.0,55.0,56.0,56.0,56.0,57.0,57.0,57.0,57.0,57.0,58.0,58.0,57.0,57.0,57.0,57.0,56.0,56.0,56.0,56.0,55.0,55.0,55.0,56.0,56.0,57.0,57.0,57.0,56.0,56.0,56.0,56.0,58.0,58.0,58.0,58.0,57.0,58.0,58.0,58.0,59.0,58.0,58.0,58.0,58.0,57.0,57.0,57.0,57.0,56.0,56.0,57.0,57.0,57.0,56.0,57.0,57.0,57.0,57.0,57.0,58.0,59.0,59.0,57.0,58.0,59.0,60.0,59.0,60.0,60.0,61.0,60.0,60.0,61.0,60.0,60.0,59.0,58.0,58.0,58.0,59.0,58.0,57.0,57.0,59.0,57.0],\"type\":\"scatter\",\"xaxis\":\"x\",\"yaxis\":\"y2\"},{\"mode\":\"lines\",\"name\":\"Wind Speed\",\"x\":[35812000000,95812000000,155811000000,215826000000,275825000000,335824000000,395808000000,455823000000,515822000000,575822000000,635821000000,695820000000,755820000000,815834000000,875818000000,935817000000,995832000000,1055816000000,1115815000000,1175815000000,1235814000000,1295829000000,1355813000000,1415812000000,1475811000000,1535826000000,1595810000000,1655825000000,1715824000000,1775823000000,1835823000000,1895822000000,1955821000000,2015820000000,2075820000000,2135819000000,2195818000000,2255818000000,2315817000000,2375816000000,2435816000000,2495815000000,2555814000000,2615813000000,2675813000000,2735812000000,2795811000000,2855826000000,2915810000000,2975825000000,3035824000000,3095824000000,3155823000000,3215822000000,3275821000000,3335821000000,3395820000000,3455819000000,3515819000000,3575818000000,3635833000000,3695817000000,3755816000000,3815815000000,3875814000000,3935814000000,3995813000000,4055812000000,4115812000000,4175811000000,4235810000000,4295810000000,4355824000000,4415824000000,4475823000000,4535822000000,4595822000000,4655821000000,4715836000000,4775820000000,4835803000000,4895818000000,4955818000000,5015864000000,5075816000000,5135816000000,5195815000000,5255830000000,5315813000000,5375828000000,5435828000000,5495827000000,5555857000000,5615826000000,5675809000000,5735824000000,5795823000000,5855870000000,5915822000000,5975821000000,6035821000000,6095836000000,6155835000000,6215850000000,6275818000000,6335848000000,6395832000000,6455863000000,6515909000000,6575861000000,6635876000000,6695860000000,6755875000000,6815890000000,6875873000000,6935888000000,6995888000000,7055887000000,7115902000000,7175917000000,7235932000000,7295947000000,7355946000000,7415945000000,7475945000000,7535960000000,7595943000000,7655958000000,7715942000000,7775957000000,7835940000000,7895940000000,7955939000000,8015954000000,8075938000000,8135937000000,8195952000000,8255951000000,8315951000000,8375950000000,8435949000000,8495964000000,8555979000000,8615994000000,8676025000000,8736008000000,8796008000000,8856007000000,8916006000000,8976068000000,9036020000000,9096035000000,9156035000000,9216050000000,9276096000000,9336048000000,9396032000000,9456047000000,9516046000000,9576046000000,9636061000000,9696075000000,9756075000000,9816121000000,9876073000000,9936073000000,9996072000000,10056071000000,10116071000000,10190961000000,10236069000000,10296069000000,10356068000000,10416067000000,10476082000000,10536066000000,10596081000000,10656080000000,10716673000000,10776063000000,10836078000000,10896093000000,10956077000000,11016076000000,11076075000000,11136075000000,11196074000000,11256073000000,11316073000000,11376072000000,11436071000000,11496071000000,11556070000000,11616069000000,11676069000000,11736068000000,11796067000000,11856067000000,11916066000000,11976065000000,12036064000000,12096095000000,12156079000000,12216094000000,12276109000000,12336108000000,12396123000000,12456122000000,12516121000000,12576136000000,12636136000000,12696135000000,12756150000000,12816165000000,12876164000000,12936179000000,12996194000000,13056178000000,13116193000000,13176192000000,13236207000000,13296237000000],\"y\":[1.6,0.8,0.6,0.8,0.8,0.6,0.8,1.0,1.5,1.1,0.8,1.0,1.1,0.5,1.3,2.0,1.2,1.2,1.2,1.1,1.1,1.3,0.8,1.0,0.6,0.6,0.4,1.0,1.1,1.0,0.8,0.8,1.2,1.1,1.0,0.8,0.6,0.8,0.6,1.0,1.0,0.6,1.0,0.6,1.2,1.5,0.5,1.3,1.2,0.6,1.2,0.6,1.2,0.6,0.6,1.0,0.8,1.2,1.2,0.8,0.8,0.8,1.0,1.2,0.6,0.5,1.2,1.5,0.8,0.8,1.2,1.0,1.1,1.8,1.7,1.3,0.8,1.6,0.8,0.6,0.8,0.8,0.8,0.8,1.3,1.0,1.1,0.8,0.6,1.1,0.6,1.6,1.5,0.8,0.6,0.6,1.2,0.6,0.6,0.8,1.2,2.0,1.2,1.0,1.1,0.8,0.8,1.1,1.7,1.5,1.8,1.3,0.8,1.6,1.7,0.6,1.5,1.7,2.2,1.0,1.6,1.3,0.6,0.8,1.3,1.2,0.6,1.0,1.0,0.6,0.8,1.6,1.3,1.3,0.8,0.8,1.1,1.0,2.2,1.5,1.0,0.6,0.8,1.7,1.2,1.1,1.2,0.8,1.7,0.8,1.2,0.8,0.6,0.8,1.3,0.6,1.0,0.4,1.6,1.5,1.5,1.6,1.6,0.6,0.8,0.8,1.1,1.8,1.3,1.2,1.2,1.2,1.0,1.2,1.0,1.6,1.1,1.2,1.1,1.8,0.4,0.8,0.8,0.6,1.0,0.8,1.7,0.8,0.8,1.2,0.6,0.8,0.6,0.8,1.1,1.2,0.8,0.8,1.6,1.5,1.2,1.2,1.0,1.8,1.7,1.8,1.5,1.5,1.5,1.5,5.0,5.0,1.7,1.1,1.5,2.0,1.6,1.7,1.2,1.2,1.5,2.5],\"type\":\"scatter\",\"xaxis\":\"x\",\"yaxis\":\"y2\"},{\"mode\":\"lines\",\"name\":\"Track Temperature\",\"x\":[35812000000,95812000000,155811000000,215826000000,275825000000,335824000000,395808000000,455823000000,515822000000,575822000000,635821000000,695820000000,755820000000,815834000000,875818000000,935817000000,995832000000,1055816000000,1115815000000,1175815000000,1235814000000,1295829000000,1355813000000,1415812000000,1475811000000,1535826000000,1595810000000,1655825000000,1715824000000,1775823000000,1835823000000,1895822000000,1955821000000,2015820000000,2075820000000,2135819000000,2195818000000,2255818000000,2315817000000,2375816000000,2435816000000,2495815000000,2555814000000,2615813000000,2675813000000,2735812000000,2795811000000,2855826000000,2915810000000,2975825000000,3035824000000,3095824000000,3155823000000,3215822000000,3275821000000,3335821000000,3395820000000,3455819000000,3515819000000,3575818000000,3635833000000,3695817000000,3755816000000,3815815000000,3875814000000,3935814000000,3995813000000,4055812000000,4115812000000,4175811000000,4235810000000,4295810000000,4355824000000,4415824000000,4475823000000,4535822000000,4595822000000,4655821000000,4715836000000,4775820000000,4835803000000,4895818000000,4955818000000,5015864000000,5075816000000,5135816000000,5195815000000,5255830000000,5315813000000,5375828000000,5435828000000,5495827000000,5555857000000,5615826000000,5675809000000,5735824000000,5795823000000,5855870000000,5915822000000,5975821000000,6035821000000,6095836000000,6155835000000,6215850000000,6275818000000,6335848000000,6395832000000,6455863000000,6515909000000,6575861000000,6635876000000,6695860000000,6755875000000,6815890000000,6875873000000,6935888000000,6995888000000,7055887000000,7115902000000,7175917000000,7235932000000,7295947000000,7355946000000,7415945000000,7475945000000,7535960000000,7595943000000,7655958000000,7715942000000,7775957000000,7835940000000,7895940000000,7955939000000,8015954000000,8075938000000,8135937000000,8195952000000,8255951000000,8315951000000,8375950000000,8435949000000,8495964000000,8555979000000,8615994000000,8676025000000,8736008000000,8796008000000,8856007000000,8916006000000,8976068000000,9036020000000,9096035000000,9156035000000,9216050000000,9276096000000,9336048000000,9396032000000,9456047000000,9516046000000,9576046000000,9636061000000,9696075000000,9756075000000,9816121000000,9876073000000,9936073000000,9996072000000,10056071000000,10116071000000,10190961000000,10236069000000,10296069000000,10356068000000,10416067000000,10476082000000,10536066000000,10596081000000,10656080000000,10716673000000,10776063000000,10836078000000,10896093000000,10956077000000,11016076000000,11076075000000,11136075000000,11196074000000,11256073000000,11316073000000,11376072000000,11436071000000,11496071000000,11556070000000,11616069000000,11676069000000,11736068000000,11796067000000,11856067000000,11916066000000,11976065000000,12036064000000,12096095000000,12156079000000,12216094000000,12276109000000,12336108000000,12396123000000,12456122000000,12516121000000,12576136000000,12636136000000,12696135000000,12756150000000,12816165000000,12876164000000,12936179000000,12996194000000,13056178000000,13116193000000,13176192000000,13236207000000,13296237000000],\"y\":[35.0,35.1,35.1,35.1,34.8,34.9,34.8,34.5,34.5,34.6,34.7,34.6,34.9,34.6,34.5,34.8,34.8,34.5,34.5,34.8,34.8,34.8,34.5,34.5,34.8,35.2,34.7,34.1,34.1,34.5,34.5,34.2,34.2,34.6,34.7,34.6,26.6,23.7,22.1,19.2,21.6,23.6,21.1,21.0,23.0,25.0,25.0,25.5,23.9,21.7,24.7,25.9,35.4,35.4,34.7,34.6,34.7,34.8,34.7,34.5,34.5,34.5,34.6,34.4,34.2,34.1,34.2,34.3,34.4,34.3,34.0,33.7,33.7,33.7,33.7,33.2,33.4,33.2,33.2,33.3,33.5,33.6,33.5,33.6,33.3,33.0,33.0,33.0,33.0,33.3,33.3,33.1,32.9,32.8,32.7,32.8,32.9,33.1,33.0,33.0,32.9,32.8,32.8,32.5,32.5,32.2,32.1,32.2,32.3,32.0,32.0,31.7,31.7,31.7,31.7,31.7,31.7,31.4,31.6,31.4,31.4,31.4,31.1,31.1,31.0,31.0,30.9,31.0,30.8,30.7,30.7,30.6,30.6,30.4,30.2,30.2,30.2,30.1,30.1,29.9,29.9,29.9,29.7,29.6,29.6,29.2,29.3,29.4,29.2,29.2,29.2,29.2,29.1,29.0,28.9,28.7,28.9,28.9,28.9,28.4,28.4,28.1,28.1,28.0,28.0,28.0,28.0,27.7,27.4,27.4,27.4,27.5,27.5,27.5,27.4,27.2,27.1,27.2,27.2,27.0,27.0,27.1,27.1,27.0,26.7,26.8,26.8,26.3,26.3,26.3,26.2,26.2,26.1,25.8,25.7,25.5,25.4,25.3,25.2,25.2,25.1,25.1,25.0,24.9,24.7,24.5,24.5,24.5,24.4,24.4,24.3,24.3,24.3,24.2,24.0,24.0,23.9,23.8,24.0,23.8,23.7,23.7],\"type\":\"scatter\",\"xaxis\":\"x\",\"yaxis\":\"y\"}],                        {\"template\":{\"data\":{\"scatter\":[{\"type\":\"scatter\"}]}},\"xaxis\":{\"anchor\":\"y\",\"domain\":[0.0,0.94]},\"yaxis\":{\"anchor\":\"x\",\"domain\":[0.0,1.0],\"title\":{\"text\":\"Temperature (°C)\"}},\"yaxis2\":{\"anchor\":\"x\",\"overlaying\":\"y\",\"side\":\"right\",\"title\":{\"text\":\"Humidity (%) \\u002f Wind Speed (m\\u002fs)\"}},\"title\":{\"text\":\"Weather Data during Qualifying\"}},                        {\"responsive\": true}                    ).then(function(){\n",
              "                            \n",
              "var gd = document.getElementById('238cba2a-f7b7-4ae6-a36d-f84fc8801182');\n",
              "var x = new MutationObserver(function (mutations, observer) {{\n",
              "        var display = window.getComputedStyle(gd).display;\n",
              "        if (!display || display === 'none') {{\n",
              "            console.log([gd, 'removed!']);\n",
              "            Plotly.purge(gd);\n",
              "            observer.disconnect();\n",
              "        }}\n",
              "}});\n",
              "\n",
              "// Listen for the removal of the full notebook cells\n",
              "var notebookContainer = gd.closest('#notebook-container');\n",
              "if (notebookContainer) {{\n",
              "    x.observe(notebookContainer, {childList: true});\n",
              "}}\n",
              "\n",
              "// Listen for the clearing of the current output cell\n",
              "var outputEl = gd.closest('.output');\n",
              "if (outputEl) {{\n",
              "    x.observe(outputEl, {childList: true});\n",
              "}}\n",
              "\n",
              "                        })                };                            </script>        </div>\n",
              "</body>\n",
              "</html>"
            ]
          },
          "metadata": {}
        }
      ]
    },
    {
      "cell_type": "markdown",
      "source": [
        "## Analysing Race Performence of Carlos Sainz Junior"
      ],
      "metadata": {
        "id": "ZqlUej2tGWeD"
      }
    },
    {
      "cell_type": "code",
      "source": [
        "filtered_race = race.laps[race.laps['Driver'].isin(choosen_drivers)]\n",
        "filtered_race['Driver'].unique()"
      ],
      "metadata": {
        "colab": {
          "base_uri": "https://localhost:8080/"
        },
        "id": "7hNqEQcmGgq6",
        "outputId": "902240e4-f917-4af7-afc4-6742b50ca6b2"
      },
      "execution_count": 68,
      "outputs": [
        {
          "output_type": "execute_result",
          "data": {
            "text/plain": [
              "array(['SAI'], dtype=object)"
            ]
          },
          "metadata": {},
          "execution_count": 68
        }
      ]
    },
    {
      "cell_type": "markdown",
      "source": [
        "Because within the race happened much more then within the qualifying I will plot the track status (SCDeployed, CleanTrack, etc.) over time as well as the race control messages to have a first overview about what happened in the race.\n",
        "  "
      ],
      "metadata": {
        "id": "HLVDSbKdHI6n"
      }
    },
    {
      "cell_type": "code",
      "source": [
        "race.race_control_messages"
      ],
      "metadata": {
        "colab": {
          "base_uri": "https://localhost:8080/",
          "height": 424
        },
        "id": "Mxf6ic44JNqQ",
        "outputId": "a0ca9fed-5ccf-4cb2-aad1-960bd37d479f"
      },
      "execution_count": 21,
      "outputs": [
        {
          "output_type": "execute_result",
          "data": {
            "text/plain": [
              "                  Time Category  \\\n",
              "0  2023-04-01 04:45:51    Other   \n",
              "1  2023-04-01 04:43:52    Other   \n",
              "2  2023-04-01 04:45:51    Other   \n",
              "3  2023-04-01 05:00:00     Flag   \n",
              "4  2023-04-01 05:04:31     Flag   \n",
              "..                 ...      ...   \n",
              "60 2023-04-01 06:15:42     Flag   \n",
              "61 2023-04-01 06:15:49     Flag   \n",
              "62 2023-04-01 06:16:17     Flag   \n",
              "63 2023-04-01 06:16:19     Flag   \n",
              "64 2023-04-01 06:16:26     Flag   \n",
              "\n",
              "                                          Message Status    Flag   Scope  \\\n",
              "0   RISK OF RAIN FOR F1 QUALIFYING SESSION IS 90%   None    None    None   \n",
              "1   LIGHT BLUE HEAD PADDING MATERIAL MUST BE USED   None    None    None   \n",
              "2   RISK OF RAIN FOR F1 QUALIFYING SESSION IS 90%   None    None    None   \n",
              "3                     GREEN LIGHT - PIT EXIT OPEN   None   GREEN   Track   \n",
              "4                       YELLOW IN TRACK SECTOR 19   None  YELLOW  Sector   \n",
              "..                                            ...    ...     ...     ...   \n",
              "60                        CLEAR IN TRACK SECTOR 7   None   CLEAR  Sector   \n",
              "61                       CLEAR IN TRACK SECTOR 18   None   CLEAR  Sector   \n",
              "62                        CLEAR IN TRACK SECTOR 6   None   CLEAR  Sector   \n",
              "63                      YELLOW IN TRACK SECTOR 13   None  YELLOW  Sector   \n",
              "64                       CLEAR IN TRACK SECTOR 13   None   CLEAR  Sector   \n",
              "\n",
              "    Sector RacingNumber   Lap  \n",
              "0      NaN         None  None  \n",
              "1      NaN         None  None  \n",
              "2      NaN         None  None  \n",
              "3      NaN         None  None  \n",
              "4     19.0         None  None  \n",
              "..     ...          ...   ...  \n",
              "60     7.0         None  None  \n",
              "61    18.0         None  None  \n",
              "62     6.0         None  None  \n",
              "63    13.0         None  None  \n",
              "64    13.0         None  None  \n",
              "\n",
              "[65 rows x 9 columns]"
            ],
            "text/html": [
              "\n",
              "  <div id=\"df-4afd1fed-20bb-447a-89dd-ace5c4e6d240\" class=\"colab-df-container\">\n",
              "    <div>\n",
              "<style scoped>\n",
              "    .dataframe tbody tr th:only-of-type {\n",
              "        vertical-align: middle;\n",
              "    }\n",
              "\n",
              "    .dataframe tbody tr th {\n",
              "        vertical-align: top;\n",
              "    }\n",
              "\n",
              "    .dataframe thead th {\n",
              "        text-align: right;\n",
              "    }\n",
              "</style>\n",
              "<table border=\"1\" class=\"dataframe\">\n",
              "  <thead>\n",
              "    <tr style=\"text-align: right;\">\n",
              "      <th></th>\n",
              "      <th>Time</th>\n",
              "      <th>Category</th>\n",
              "      <th>Message</th>\n",
              "      <th>Status</th>\n",
              "      <th>Flag</th>\n",
              "      <th>Scope</th>\n",
              "      <th>Sector</th>\n",
              "      <th>RacingNumber</th>\n",
              "      <th>Lap</th>\n",
              "    </tr>\n",
              "  </thead>\n",
              "  <tbody>\n",
              "    <tr>\n",
              "      <th>0</th>\n",
              "      <td>2023-04-01 04:45:51</td>\n",
              "      <td>Other</td>\n",
              "      <td>RISK OF RAIN FOR F1 QUALIFYING SESSION IS 90%</td>\n",
              "      <td>None</td>\n",
              "      <td>None</td>\n",
              "      <td>None</td>\n",
              "      <td>NaN</td>\n",
              "      <td>None</td>\n",
              "      <td>None</td>\n",
              "    </tr>\n",
              "    <tr>\n",
              "      <th>1</th>\n",
              "      <td>2023-04-01 04:43:52</td>\n",
              "      <td>Other</td>\n",
              "      <td>LIGHT BLUE HEAD PADDING MATERIAL MUST BE USED</td>\n",
              "      <td>None</td>\n",
              "      <td>None</td>\n",
              "      <td>None</td>\n",
              "      <td>NaN</td>\n",
              "      <td>None</td>\n",
              "      <td>None</td>\n",
              "    </tr>\n",
              "    <tr>\n",
              "      <th>2</th>\n",
              "      <td>2023-04-01 04:45:51</td>\n",
              "      <td>Other</td>\n",
              "      <td>RISK OF RAIN FOR F1 QUALIFYING SESSION IS 90%</td>\n",
              "      <td>None</td>\n",
              "      <td>None</td>\n",
              "      <td>None</td>\n",
              "      <td>NaN</td>\n",
              "      <td>None</td>\n",
              "      <td>None</td>\n",
              "    </tr>\n",
              "    <tr>\n",
              "      <th>3</th>\n",
              "      <td>2023-04-01 05:00:00</td>\n",
              "      <td>Flag</td>\n",
              "      <td>GREEN LIGHT - PIT EXIT OPEN</td>\n",
              "      <td>None</td>\n",
              "      <td>GREEN</td>\n",
              "      <td>Track</td>\n",
              "      <td>NaN</td>\n",
              "      <td>None</td>\n",
              "      <td>None</td>\n",
              "    </tr>\n",
              "    <tr>\n",
              "      <th>4</th>\n",
              "      <td>2023-04-01 05:04:31</td>\n",
              "      <td>Flag</td>\n",
              "      <td>YELLOW IN TRACK SECTOR 19</td>\n",
              "      <td>None</td>\n",
              "      <td>YELLOW</td>\n",
              "      <td>Sector</td>\n",
              "      <td>19.0</td>\n",
              "      <td>None</td>\n",
              "      <td>None</td>\n",
              "    </tr>\n",
              "    <tr>\n",
              "      <th>...</th>\n",
              "      <td>...</td>\n",
              "      <td>...</td>\n",
              "      <td>...</td>\n",
              "      <td>...</td>\n",
              "      <td>...</td>\n",
              "      <td>...</td>\n",
              "      <td>...</td>\n",
              "      <td>...</td>\n",
              "      <td>...</td>\n",
              "    </tr>\n",
              "    <tr>\n",
              "      <th>60</th>\n",
              "      <td>2023-04-01 06:15:42</td>\n",
              "      <td>Flag</td>\n",
              "      <td>CLEAR IN TRACK SECTOR 7</td>\n",
              "      <td>None</td>\n",
              "      <td>CLEAR</td>\n",
              "      <td>Sector</td>\n",
              "      <td>7.0</td>\n",
              "      <td>None</td>\n",
              "      <td>None</td>\n",
              "    </tr>\n",
              "    <tr>\n",
              "      <th>61</th>\n",
              "      <td>2023-04-01 06:15:49</td>\n",
              "      <td>Flag</td>\n",
              "      <td>CLEAR IN TRACK SECTOR 18</td>\n",
              "      <td>None</td>\n",
              "      <td>CLEAR</td>\n",
              "      <td>Sector</td>\n",
              "      <td>18.0</td>\n",
              "      <td>None</td>\n",
              "      <td>None</td>\n",
              "    </tr>\n",
              "    <tr>\n",
              "      <th>62</th>\n",
              "      <td>2023-04-01 06:16:17</td>\n",
              "      <td>Flag</td>\n",
              "      <td>CLEAR IN TRACK SECTOR 6</td>\n",
              "      <td>None</td>\n",
              "      <td>CLEAR</td>\n",
              "      <td>Sector</td>\n",
              "      <td>6.0</td>\n",
              "      <td>None</td>\n",
              "      <td>None</td>\n",
              "    </tr>\n",
              "    <tr>\n",
              "      <th>63</th>\n",
              "      <td>2023-04-01 06:16:19</td>\n",
              "      <td>Flag</td>\n",
              "      <td>YELLOW IN TRACK SECTOR 13</td>\n",
              "      <td>None</td>\n",
              "      <td>YELLOW</td>\n",
              "      <td>Sector</td>\n",
              "      <td>13.0</td>\n",
              "      <td>None</td>\n",
              "      <td>None</td>\n",
              "    </tr>\n",
              "    <tr>\n",
              "      <th>64</th>\n",
              "      <td>2023-04-01 06:16:26</td>\n",
              "      <td>Flag</td>\n",
              "      <td>CLEAR IN TRACK SECTOR 13</td>\n",
              "      <td>None</td>\n",
              "      <td>CLEAR</td>\n",
              "      <td>Sector</td>\n",
              "      <td>13.0</td>\n",
              "      <td>None</td>\n",
              "      <td>None</td>\n",
              "    </tr>\n",
              "  </tbody>\n",
              "</table>\n",
              "<p>65 rows × 9 columns</p>\n",
              "</div>\n",
              "    <div class=\"colab-df-buttons\">\n",
              "\n",
              "  <div class=\"colab-df-container\">\n",
              "    <button class=\"colab-df-convert\" onclick=\"convertToInteractive('df-4afd1fed-20bb-447a-89dd-ace5c4e6d240')\"\n",
              "            title=\"Convert this dataframe to an interactive table.\"\n",
              "            style=\"display:none;\">\n",
              "\n",
              "  <svg xmlns=\"http://www.w3.org/2000/svg\" height=\"24px\" viewBox=\"0 -960 960 960\">\n",
              "    <path d=\"M120-120v-720h720v720H120Zm60-500h600v-160H180v160Zm220 220h160v-160H400v160Zm0 220h160v-160H400v160ZM180-400h160v-160H180v160Zm440 0h160v-160H620v160ZM180-180h160v-160H180v160Zm440 0h160v-160H620v160Z\"/>\n",
              "  </svg>\n",
              "    </button>\n",
              "\n",
              "  <style>\n",
              "    .colab-df-container {\n",
              "      display:flex;\n",
              "      gap: 12px;\n",
              "    }\n",
              "\n",
              "    .colab-df-convert {\n",
              "      background-color: #E8F0FE;\n",
              "      border: none;\n",
              "      border-radius: 50%;\n",
              "      cursor: pointer;\n",
              "      display: none;\n",
              "      fill: #1967D2;\n",
              "      height: 32px;\n",
              "      padding: 0 0 0 0;\n",
              "      width: 32px;\n",
              "    }\n",
              "\n",
              "    .colab-df-convert:hover {\n",
              "      background-color: #E2EBFA;\n",
              "      box-shadow: 0px 1px 2px rgba(60, 64, 67, 0.3), 0px 1px 3px 1px rgba(60, 64, 67, 0.15);\n",
              "      fill: #174EA6;\n",
              "    }\n",
              "\n",
              "    .colab-df-buttons div {\n",
              "      margin-bottom: 4px;\n",
              "    }\n",
              "\n",
              "    [theme=dark] .colab-df-convert {\n",
              "      background-color: #3B4455;\n",
              "      fill: #D2E3FC;\n",
              "    }\n",
              "\n",
              "    [theme=dark] .colab-df-convert:hover {\n",
              "      background-color: #434B5C;\n",
              "      box-shadow: 0px 1px 3px 1px rgba(0, 0, 0, 0.15);\n",
              "      filter: drop-shadow(0px 1px 2px rgba(0, 0, 0, 0.3));\n",
              "      fill: #FFFFFF;\n",
              "    }\n",
              "  </style>\n",
              "\n",
              "    <script>\n",
              "      const buttonEl =\n",
              "        document.querySelector('#df-4afd1fed-20bb-447a-89dd-ace5c4e6d240 button.colab-df-convert');\n",
              "      buttonEl.style.display =\n",
              "        google.colab.kernel.accessAllowed ? 'block' : 'none';\n",
              "\n",
              "      async function convertToInteractive(key) {\n",
              "        const element = document.querySelector('#df-4afd1fed-20bb-447a-89dd-ace5c4e6d240');\n",
              "        const dataTable =\n",
              "          await google.colab.kernel.invokeFunction('convertToInteractive',\n",
              "                                                    [key], {});\n",
              "        if (!dataTable) return;\n",
              "\n",
              "        const docLinkHtml = 'Like what you see? Visit the ' +\n",
              "          '<a target=\"_blank\" href=https://colab.research.google.com/notebooks/data_table.ipynb>data table notebook</a>'\n",
              "          + ' to learn more about interactive tables.';\n",
              "        element.innerHTML = '';\n",
              "        dataTable['output_type'] = 'display_data';\n",
              "        await google.colab.output.renderOutput(dataTable, element);\n",
              "        const docLink = document.createElement('div');\n",
              "        docLink.innerHTML = docLinkHtml;\n",
              "        element.appendChild(docLink);\n",
              "      }\n",
              "    </script>\n",
              "  </div>\n",
              "\n",
              "\n",
              "    <div id=\"df-e611d023-72a7-4efb-b514-7bf125be2d92\">\n",
              "      <button class=\"colab-df-quickchart\" onclick=\"quickchart('df-e611d023-72a7-4efb-b514-7bf125be2d92')\"\n",
              "                title=\"Suggest charts\"\n",
              "                style=\"display:none;\">\n",
              "\n",
              "<svg xmlns=\"http://www.w3.org/2000/svg\" height=\"24px\"viewBox=\"0 0 24 24\"\n",
              "     width=\"24px\">\n",
              "    <g>\n",
              "        <path d=\"M19 3H5c-1.1 0-2 .9-2 2v14c0 1.1.9 2 2 2h14c1.1 0 2-.9 2-2V5c0-1.1-.9-2-2-2zM9 17H7v-7h2v7zm4 0h-2V7h2v10zm4 0h-2v-4h2v4z\"/>\n",
              "    </g>\n",
              "</svg>\n",
              "      </button>\n",
              "\n",
              "<style>\n",
              "  .colab-df-quickchart {\n",
              "      --bg-color: #E8F0FE;\n",
              "      --fill-color: #1967D2;\n",
              "      --hover-bg-color: #E2EBFA;\n",
              "      --hover-fill-color: #174EA6;\n",
              "      --disabled-fill-color: #AAA;\n",
              "      --disabled-bg-color: #DDD;\n",
              "  }\n",
              "\n",
              "  [theme=dark] .colab-df-quickchart {\n",
              "      --bg-color: #3B4455;\n",
              "      --fill-color: #D2E3FC;\n",
              "      --hover-bg-color: #434B5C;\n",
              "      --hover-fill-color: #FFFFFF;\n",
              "      --disabled-bg-color: #3B4455;\n",
              "      --disabled-fill-color: #666;\n",
              "  }\n",
              "\n",
              "  .colab-df-quickchart {\n",
              "    background-color: var(--bg-color);\n",
              "    border: none;\n",
              "    border-radius: 50%;\n",
              "    cursor: pointer;\n",
              "    display: none;\n",
              "    fill: var(--fill-color);\n",
              "    height: 32px;\n",
              "    padding: 0;\n",
              "    width: 32px;\n",
              "  }\n",
              "\n",
              "  .colab-df-quickchart:hover {\n",
              "    background-color: var(--hover-bg-color);\n",
              "    box-shadow: 0 1px 2px rgba(60, 64, 67, 0.3), 0 1px 3px 1px rgba(60, 64, 67, 0.15);\n",
              "    fill: var(--button-hover-fill-color);\n",
              "  }\n",
              "\n",
              "  .colab-df-quickchart-complete:disabled,\n",
              "  .colab-df-quickchart-complete:disabled:hover {\n",
              "    background-color: var(--disabled-bg-color);\n",
              "    fill: var(--disabled-fill-color);\n",
              "    box-shadow: none;\n",
              "  }\n",
              "\n",
              "  .colab-df-spinner {\n",
              "    border: 2px solid var(--fill-color);\n",
              "    border-color: transparent;\n",
              "    border-bottom-color: var(--fill-color);\n",
              "    animation:\n",
              "      spin 1s steps(1) infinite;\n",
              "  }\n",
              "\n",
              "  @keyframes spin {\n",
              "    0% {\n",
              "      border-color: transparent;\n",
              "      border-bottom-color: var(--fill-color);\n",
              "      border-left-color: var(--fill-color);\n",
              "    }\n",
              "    20% {\n",
              "      border-color: transparent;\n",
              "      border-left-color: var(--fill-color);\n",
              "      border-top-color: var(--fill-color);\n",
              "    }\n",
              "    30% {\n",
              "      border-color: transparent;\n",
              "      border-left-color: var(--fill-color);\n",
              "      border-top-color: var(--fill-color);\n",
              "      border-right-color: var(--fill-color);\n",
              "    }\n",
              "    40% {\n",
              "      border-color: transparent;\n",
              "      border-right-color: var(--fill-color);\n",
              "      border-top-color: var(--fill-color);\n",
              "    }\n",
              "    60% {\n",
              "      border-color: transparent;\n",
              "      border-right-color: var(--fill-color);\n",
              "    }\n",
              "    80% {\n",
              "      border-color: transparent;\n",
              "      border-right-color: var(--fill-color);\n",
              "      border-bottom-color: var(--fill-color);\n",
              "    }\n",
              "    90% {\n",
              "      border-color: transparent;\n",
              "      border-bottom-color: var(--fill-color);\n",
              "    }\n",
              "  }\n",
              "</style>\n",
              "\n",
              "      <script>\n",
              "        async function quickchart(key) {\n",
              "          const quickchartButtonEl =\n",
              "            document.querySelector('#' + key + ' button');\n",
              "          quickchartButtonEl.disabled = true;  // To prevent multiple clicks.\n",
              "          quickchartButtonEl.classList.add('colab-df-spinner');\n",
              "          try {\n",
              "            const charts = await google.colab.kernel.invokeFunction(\n",
              "                'suggestCharts', [key], {});\n",
              "          } catch (error) {\n",
              "            console.error('Error during call to suggestCharts:', error);\n",
              "          }\n",
              "          quickchartButtonEl.classList.remove('colab-df-spinner');\n",
              "          quickchartButtonEl.classList.add('colab-df-quickchart-complete');\n",
              "        }\n",
              "        (() => {\n",
              "          let quickchartButtonEl =\n",
              "            document.querySelector('#df-e611d023-72a7-4efb-b514-7bf125be2d92 button');\n",
              "          quickchartButtonEl.style.display =\n",
              "            google.colab.kernel.accessAllowed ? 'block' : 'none';\n",
              "        })();\n",
              "      </script>\n",
              "    </div>\n",
              "\n",
              "    </div>\n",
              "  </div>\n"
            ],
            "application/vnd.google.colaboratory.intrinsic+json": {
              "type": "dataframe",
              "repr_error": "Out of range float values are not JSON compliant: nan"
            }
          },
          "metadata": {},
          "execution_count": 21
        }
      ]
    },
    {
      "cell_type": "code",
      "metadata": {
        "colab": {
          "base_uri": "https://localhost:8080/",
          "height": 1000
        },
        "id": "b56d924c",
        "outputId": "e8f90d3b-78af-4687-d0be-98e477284192"
      },
      "source": [
        "import plotly.graph_objects as go\n",
        "\n",
        "# Plotting race control messages over time\n",
        "fig_messages1 = px.scatter(race.race_control_messages, x='Time', y='Category', template='none')\n",
        "fig_messages1.update_layout(title='Race Control Messages during Race', xaxis_title='Time', template='none')\n",
        "fig_messages1.show()\n",
        "\n",
        "fig_messages2 = px.scatter(race.race_control_messages, x='Time', y='Sector', color='Category', template='none')\n",
        "fig_messages2.update_layout(title='Race Control Messages during Race', xaxis_title='Time', template='none')\n",
        "fig_messages2.show()\n"
      ],
      "execution_count": 95,
      "outputs": [
        {
          "output_type": "display_data",
          "data": {
            "text/html": [
              "<html>\n",
              "<head><meta charset=\"utf-8\" /></head>\n",
              "<body>\n",
              "    <div>            <script src=\"https://cdnjs.cloudflare.com/ajax/libs/mathjax/2.7.5/MathJax.js?config=TeX-AMS-MML_SVG\"></script><script type=\"text/javascript\">if (window.MathJax && window.MathJax.Hub && window.MathJax.Hub.Config) {window.MathJax.Hub.Config({SVG: {font: \"STIX-Web\"}});}</script>                <script type=\"text/javascript\">window.PlotlyConfig = {MathJaxConfig: 'local'};</script>\n",
              "        <script charset=\"utf-8\" src=\"https://cdn.plot.ly/plotly-2.35.2.min.js\"></script>                <div id=\"3f142c40-6741-4e7e-b8a9-2076f80ad42c\" class=\"plotly-graph-div\" style=\"height:525px; width:100%;\"></div>            <script type=\"text/javascript\">                                    window.PLOTLYENV=window.PLOTLYENV || {};                                    if (document.getElementById(\"3f142c40-6741-4e7e-b8a9-2076f80ad42c\")) {                    Plotly.newPlot(                        \"3f142c40-6741-4e7e-b8a9-2076f80ad42c\",                        [{\"marker\":{\"color\":\"yellow\"},\"mode\":\"markers\",\"name\":\"Yellow\",\"x\":[0,1847338000000,3764534000000,4390543000000,9389985000000,10753048000000],\"y\":[\"Yellow\",\"Yellow\",\"Yellow\",\"Yellow\",\"Yellow\",\"Yellow\"],\"type\":\"scatter\"},{\"marker\":{\"color\":\"green\"},\"mode\":\"markers\",\"name\":\"AllClear\",\"x\":[787538000000,2352957000000,4090984000000,5501671000000,6591267000000,9398329000000,10208585000000,12134751000000],\"y\":[\"AllClear\",\"AllClear\",\"AllClear\",\"AllClear\",\"AllClear\",\"AllClear\",\"AllClear\",\"AllClear\"],\"type\":\"scatter\"},{\"marker\":{\"color\":\"purple\"},\"mode\":\"markers\",\"name\":\"SCDeployed\",\"x\":[3805831000000,4403246000000,9450688000000],\"y\":[\"SCDeployed\",\"SCDeployed\",\"SCDeployed\"],\"type\":\"scatter\"},{\"marker\":{\"color\":\"red\"},\"mode\":\"markers\",\"name\":\"Red\",\"x\":[4561056000000,9606264000000,10765329000000,12964835000000],\"y\":[\"Red\",\"Red\",\"Red\",\"Red\"],\"type\":\"scatter\"},{\"marker\":{\"color\":\"violet\"},\"mode\":\"markers\",\"name\":\"VSCDeployed\",\"x\":[6454722000000],\"y\":[\"VSCDeployed\"],\"type\":\"scatter\"},{\"marker\":{\"color\":\"orange\"},\"mode\":\"markers\",\"name\":\"VSCEnding\",\"x\":[6577049000000],\"y\":[\"VSCEnding\"],\"type\":\"scatter\"}],                        {\"template\":{\"data\":{\"scatter\":[{\"type\":\"scatter\"}]}},\"title\":{\"text\":\"Track Status during Race\"},\"xaxis\":{\"title\":{\"text\":\"Time\"}},\"yaxis\":{\"title\":{\"text\":\"Status\"}}},                        {\"responsive\": true}                    ).then(function(){\n",
              "                            \n",
              "var gd = document.getElementById('3f142c40-6741-4e7e-b8a9-2076f80ad42c');\n",
              "var x = new MutationObserver(function (mutations, observer) {{\n",
              "        var display = window.getComputedStyle(gd).display;\n",
              "        if (!display || display === 'none') {{\n",
              "            console.log([gd, 'removed!']);\n",
              "            Plotly.purge(gd);\n",
              "            observer.disconnect();\n",
              "        }}\n",
              "}});\n",
              "\n",
              "// Listen for the removal of the full notebook cells\n",
              "var notebookContainer = gd.closest('#notebook-container');\n",
              "if (notebookContainer) {{\n",
              "    x.observe(notebookContainer, {childList: true});\n",
              "}}\n",
              "\n",
              "// Listen for the clearing of the current output cell\n",
              "var outputEl = gd.closest('.output');\n",
              "if (outputEl) {{\n",
              "    x.observe(outputEl, {childList: true});\n",
              "}}\n",
              "\n",
              "                        })                };                            </script>        </div>\n",
              "</body>\n",
              "</html>"
            ]
          },
          "metadata": {}
        },
        {
          "output_type": "display_data",
          "data": {
            "text/html": [
              "<html>\n",
              "<head><meta charset=\"utf-8\" /></head>\n",
              "<body>\n",
              "    <div>            <script src=\"https://cdnjs.cloudflare.com/ajax/libs/mathjax/2.7.5/MathJax.js?config=TeX-AMS-MML_SVG\"></script><script type=\"text/javascript\">if (window.MathJax && window.MathJax.Hub && window.MathJax.Hub.Config) {window.MathJax.Hub.Config({SVG: {font: \"STIX-Web\"}});}</script>                <script type=\"text/javascript\">window.PlotlyConfig = {MathJaxConfig: 'local'};</script>\n",
              "        <script charset=\"utf-8\" src=\"https://cdn.plot.ly/plotly-2.35.2.min.js\"></script>                <div id=\"806241da-7d9d-4276-86c0-f5efd3323b27\" class=\"plotly-graph-div\" style=\"height:525px; width:100%;\"></div>            <script type=\"text/javascript\">                                    window.PLOTLYENV=window.PLOTLYENV || {};                                    if (document.getElementById(\"806241da-7d9d-4276-86c0-f5efd3323b27\")) {                    Plotly.newPlot(                        \"806241da-7d9d-4276-86c0-f5efd3323b27\",                        [{\"hovertemplate\":\"Time=%{x}\\u003cbr\\u003eCategory=%{y}\\u003cextra\\u003e\\u003c\\u002fextra\\u003e\",\"legendgroup\":\"\",\"marker\":{\"color\":\"#1F77B4\",\"symbol\":\"circle\"},\"mode\":\"markers\",\"name\":\"\",\"orientation\":\"v\",\"showlegend\":false,\"x\":[\"2023-04-01T04:45:51\",\"2023-04-01T04:43:52\",\"2023-04-01T04:45:51\",\"2023-04-01T05:00:00\",\"2023-04-01T05:04:31\",\"2023-04-01T05:04:32\",\"2023-04-01T05:04:33\",\"2023-04-01T05:04:40\",\"2023-04-01T05:04:40\",\"2023-04-01T05:04:40\",\"2023-04-01T05:05:47\",\"2023-04-01T05:06:07\",\"2023-04-01T05:06:08\",\"2023-04-01T05:06:16\",\"2023-04-01T05:06:17\",\"2023-04-01T05:10:30\",\"2023-04-01T05:11:12\",\"2023-04-01T05:11:13\",\"2023-04-01T05:14:00\",\"2023-04-01T05:22:38\",\"2023-04-01T05:23:58\",\"2023-04-01T05:25:44\",\"2023-04-01T05:25:59\",\"2023-04-01T05:26:58\",\"2023-04-01T05:28:42\",\"2023-04-01T05:28:43\",\"2023-04-01T05:31:41\",\"2023-04-01T05:31:41\",\"2023-04-01T05:33:00\",\"2023-04-01T05:36:28\",\"2023-04-01T05:36:29\",\"2023-04-01T05:37:20\",\"2023-04-01T05:39:27\",\"2023-04-01T05:48:00\",\"2023-04-01T05:48:14\",\"2023-04-01T05:49:38\",\"2023-04-01T05:50:14\",\"2023-04-01T05:50:15\",\"2023-04-01T05:54:07\",\"2023-04-01T05:54:07\",\"2023-04-01T05:56:00\",\"2023-04-01T06:08:00\",\"2023-04-01T06:08:08\",\"2023-04-01T06:10:26\",\"2023-04-01T06:10:27\",\"2023-04-01T06:10:31\",\"2023-04-01T06:10:32\",\"2023-04-01T06:10:56\",\"2023-04-01T06:11:03\",\"2023-04-01T06:11:09\",\"2023-04-01T06:11:10\",\"2023-04-01T06:11:14\",\"2023-04-01T06:11:14\",\"2023-04-01T06:12:35\",\"2023-04-01T06:12:36\",\"2023-04-01T06:13:32\",\"2023-04-01T06:13:32\",\"2023-04-01T06:14:21\",\"2023-04-01T06:15:35\",\"2023-04-01T06:15:38\",\"2023-04-01T06:15:42\",\"2023-04-01T06:15:49\",\"2023-04-01T06:16:17\",\"2023-04-01T06:16:19\",\"2023-04-01T06:16:26\"],\"xaxis\":\"x\",\"y\":[\"Other\",\"Other\",\"Other\",\"Flag\",\"Flag\",\"Flag\",\"Other\",\"Flag\",\"Other\",\"Flag\",\"CarEvent\",\"Flag\",\"Other\",\"Flag\",\"Flag\",\"Other\",\"Flag\",\"Drs\",\"Flag\",\"Other\",\"Other\",\"Flag\",\"Other\",\"Other\",\"Flag\",\"Other\",\"Other\",\"Flag\",\"Flag\",\"Flag\",\"Flag\",\"Other\",\"Other\",\"Flag\",\"Other\",\"Other\",\"Flag\",\"Other\",\"Other\",\"Flag\",\"Flag\",\"Flag\",\"Other\",\"Flag\",\"Other\",\"Flag\",\"Other\",\"Flag\",\"Other\",\"Flag\",\"Flag\",\"Flag\",\"Flag\",\"Flag\",\"Other\",\"Flag\",\"Other\",\"Flag\",\"Flag\",\"Flag\",\"Flag\",\"Flag\",\"Flag\",\"Flag\",\"Flag\"],\"yaxis\":\"y\",\"type\":\"scatter\"}],                        {\"template\":{\"data\":{\"scatter\":[{\"type\":\"scatter\"}]}},\"xaxis\":{\"anchor\":\"y\",\"domain\":[0.0,1.0],\"title\":{\"text\":\"Time\"}},\"yaxis\":{\"anchor\":\"x\",\"domain\":[0.0,1.0],\"title\":{\"text\":\"Category\"}},\"legend\":{\"tracegroupgap\":0},\"margin\":{\"t\":60},\"title\":{\"text\":\"Race Control Messages during Race\"}},                        {\"responsive\": true}                    ).then(function(){\n",
              "                            \n",
              "var gd = document.getElementById('806241da-7d9d-4276-86c0-f5efd3323b27');\n",
              "var x = new MutationObserver(function (mutations, observer) {{\n",
              "        var display = window.getComputedStyle(gd).display;\n",
              "        if (!display || display === 'none') {{\n",
              "            console.log([gd, 'removed!']);\n",
              "            Plotly.purge(gd);\n",
              "            observer.disconnect();\n",
              "        }}\n",
              "}});\n",
              "\n",
              "// Listen for the removal of the full notebook cells\n",
              "var notebookContainer = gd.closest('#notebook-container');\n",
              "if (notebookContainer) {{\n",
              "    x.observe(notebookContainer, {childList: true});\n",
              "}}\n",
              "\n",
              "// Listen for the clearing of the current output cell\n",
              "var outputEl = gd.closest('.output');\n",
              "if (outputEl) {{\n",
              "    x.observe(outputEl, {childList: true});\n",
              "}}\n",
              "\n",
              "                        })                };                            </script>        </div>\n",
              "</body>\n",
              "</html>"
            ]
          },
          "metadata": {}
        },
        {
          "output_type": "display_data",
          "data": {
            "text/html": [
              "<html>\n",
              "<head><meta charset=\"utf-8\" /></head>\n",
              "<body>\n",
              "    <div>            <script src=\"https://cdnjs.cloudflare.com/ajax/libs/mathjax/2.7.5/MathJax.js?config=TeX-AMS-MML_SVG\"></script><script type=\"text/javascript\">if (window.MathJax && window.MathJax.Hub && window.MathJax.Hub.Config) {window.MathJax.Hub.Config({SVG: {font: \"STIX-Web\"}});}</script>                <script type=\"text/javascript\">window.PlotlyConfig = {MathJaxConfig: 'local'};</script>\n",
              "        <script charset=\"utf-8\" src=\"https://cdn.plot.ly/plotly-2.35.2.min.js\"></script>                <div id=\"4c33c81d-4cab-41f9-8b98-25356cae7ffa\" class=\"plotly-graph-div\" style=\"height:525px; width:100%;\"></div>            <script type=\"text/javascript\">                                    window.PLOTLYENV=window.PLOTLYENV || {};                                    if (document.getElementById(\"4c33c81d-4cab-41f9-8b98-25356cae7ffa\")) {                    Plotly.newPlot(                        \"4c33c81d-4cab-41f9-8b98-25356cae7ffa\",                        [{\"hovertemplate\":\"Category=Other\\u003cbr\\u003eTime=%{x}\\u003cbr\\u003eSector=%{y}\\u003cextra\\u003e\\u003c\\u002fextra\\u003e\",\"legendgroup\":\"Other\",\"marker\":{\"color\":\"#1F77B4\",\"symbol\":\"circle\"},\"mode\":\"markers\",\"name\":\"Other\",\"orientation\":\"v\",\"showlegend\":true,\"x\":[\"2023-04-01T04:45:51\",\"2023-04-01T04:43:52\",\"2023-04-01T04:45:51\",\"2023-04-01T05:04:33\",\"2023-04-01T05:04:40\",\"2023-04-01T05:06:08\",\"2023-04-01T05:10:30\",\"2023-04-01T05:22:38\",\"2023-04-01T05:23:58\",\"2023-04-01T05:25:59\",\"2023-04-01T05:26:58\",\"2023-04-01T05:28:43\",\"2023-04-01T05:31:41\",\"2023-04-01T05:37:20\",\"2023-04-01T05:39:27\",\"2023-04-01T05:48:14\",\"2023-04-01T05:49:38\",\"2023-04-01T05:50:15\",\"2023-04-01T05:54:07\",\"2023-04-01T06:08:08\",\"2023-04-01T06:10:27\",\"2023-04-01T06:10:32\",\"2023-04-01T06:11:03\",\"2023-04-01T06:12:36\",\"2023-04-01T06:13:32\"],\"xaxis\":\"x\",\"y\":[null,null,null,null,null,null,null,null,null,null,null,null,null,null,null,null,null,null,null,null,null,null,null,null,null],\"yaxis\":\"y\",\"type\":\"scatter\"},{\"hovertemplate\":\"Category=Flag\\u003cbr\\u003eTime=%{x}\\u003cbr\\u003eSector=%{y}\\u003cextra\\u003e\\u003c\\u002fextra\\u003e\",\"legendgroup\":\"Flag\",\"marker\":{\"color\":\"#FF7F0E\",\"symbol\":\"circle\"},\"mode\":\"markers\",\"name\":\"Flag\",\"orientation\":\"v\",\"showlegend\":true,\"x\":[\"2023-04-01T05:00:00\",\"2023-04-01T05:04:31\",\"2023-04-01T05:04:32\",\"2023-04-01T05:04:40\",\"2023-04-01T05:04:40\",\"2023-04-01T05:06:07\",\"2023-04-01T05:06:16\",\"2023-04-01T05:06:17\",\"2023-04-01T05:11:12\",\"2023-04-01T05:14:00\",\"2023-04-01T05:25:44\",\"2023-04-01T05:28:42\",\"2023-04-01T05:31:41\",\"2023-04-01T05:33:00\",\"2023-04-01T05:36:28\",\"2023-04-01T05:36:29\",\"2023-04-01T05:48:00\",\"2023-04-01T05:50:14\",\"2023-04-01T05:54:07\",\"2023-04-01T05:56:00\",\"2023-04-01T06:08:00\",\"2023-04-01T06:10:26\",\"2023-04-01T06:10:31\",\"2023-04-01T06:10:56\",\"2023-04-01T06:11:09\",\"2023-04-01T06:11:10\",\"2023-04-01T06:11:14\",\"2023-04-01T06:11:14\",\"2023-04-01T06:12:35\",\"2023-04-01T06:13:32\",\"2023-04-01T06:14:21\",\"2023-04-01T06:15:35\",\"2023-04-01T06:15:38\",\"2023-04-01T06:15:42\",\"2023-04-01T06:15:49\",\"2023-04-01T06:16:17\",\"2023-04-01T06:16:19\",\"2023-04-01T06:16:26\"],\"xaxis\":\"x\",\"y\":[null,19.0,20.0,20.0,19.0,5.0,null,5.0,null,null,null,17.0,17.0,null,19.0,19.0,null,5.0,5.0,null,null,5.0,2.0,5.0,6.0,6.0,5.0,7.0,15.0,2.0,18.0,15.0,5.0,7.0,18.0,6.0,13.0,13.0],\"yaxis\":\"y\",\"type\":\"scatter\"},{\"hovertemplate\":\"Category=CarEvent\\u003cbr\\u003eTime=%{x}\\u003cbr\\u003eSector=%{y}\\u003cextra\\u003e\\u003c\\u002fextra\\u003e\",\"legendgroup\":\"CarEvent\",\"marker\":{\"color\":\"#2CA02C\",\"symbol\":\"circle\"},\"mode\":\"markers\",\"name\":\"CarEvent\",\"orientation\":\"v\",\"showlegend\":true,\"x\":[\"2023-04-01T05:05:47\"],\"xaxis\":\"x\",\"y\":[null],\"yaxis\":\"y\",\"type\":\"scatter\"},{\"hovertemplate\":\"Category=Drs\\u003cbr\\u003eTime=%{x}\\u003cbr\\u003eSector=%{y}\\u003cextra\\u003e\\u003c\\u002fextra\\u003e\",\"legendgroup\":\"Drs\",\"marker\":{\"color\":\"#D62728\",\"symbol\":\"circle\"},\"mode\":\"markers\",\"name\":\"Drs\",\"orientation\":\"v\",\"showlegend\":true,\"x\":[\"2023-04-01T05:11:13\"],\"xaxis\":\"x\",\"y\":[null],\"yaxis\":\"y\",\"type\":\"scatter\"}],                        {\"template\":{\"data\":{\"scatter\":[{\"type\":\"scatter\"}]}},\"xaxis\":{\"anchor\":\"y\",\"domain\":[0.0,1.0],\"title\":{\"text\":\"Time\"}},\"yaxis\":{\"anchor\":\"x\",\"domain\":[0.0,1.0],\"title\":{\"text\":\"Sector\"}},\"legend\":{\"title\":{\"text\":\"Category\"},\"tracegroupgap\":0},\"margin\":{\"t\":60},\"title\":{\"text\":\"Race Control Messages during Race\"}},                        {\"responsive\": true}                    ).then(function(){\n",
              "                            \n",
              "var gd = document.getElementById('4c33c81d-4cab-41f9-8b98-25356cae7ffa');\n",
              "var x = new MutationObserver(function (mutations, observer) {{\n",
              "        var display = window.getComputedStyle(gd).display;\n",
              "        if (!display || display === 'none') {{\n",
              "            console.log([gd, 'removed!']);\n",
              "            Plotly.purge(gd);\n",
              "            observer.disconnect();\n",
              "        }}\n",
              "}});\n",
              "\n",
              "// Listen for the removal of the full notebook cells\n",
              "var notebookContainer = gd.closest('#notebook-container');\n",
              "if (notebookContainer) {{\n",
              "    x.observe(notebookContainer, {childList: true});\n",
              "}}\n",
              "\n",
              "// Listen for the clearing of the current output cell\n",
              "var outputEl = gd.closest('.output');\n",
              "if (outputEl) {{\n",
              "    x.observe(outputEl, {childList: true});\n",
              "}}\n",
              "\n",
              "                        })                };                            </script>        </div>\n",
              "</body>\n",
              "</html>"
            ]
          },
          "metadata": {}
        }
      ]
    },
    {
      "cell_type": "markdown",
      "metadata": {
        "id": "60a9d36a"
      },
      "source": [
        "As you can see from the plots above, the race had several incidents and changes in track status, which significantly impacted the ranking and overall race dynamics."
      ]
    },
    {
      "cell_type": "markdown",
      "metadata": {
        "id": "2b3d4c96"
      },
      "source": [
        "Let's analyze the lap times during the race, similar to what we did for qualifying, taking into account the outliers caused by race events."
      ]
    },
    {
      "cell_type": "code",
      "metadata": {
        "id": "11c2df3a"
      },
      "source": [
        "# calculate thresholds for outliers for race lap times\n",
        "Q1_race = filtered_race['LapTime'].quantile(0.25)\n",
        "Q3_race = filtered_race['LapTime'].quantile(0.75)\n",
        "IQR_race = Q3_race - Q1_race\n",
        "\n",
        "upper_fence_race = Q3_race + 1.5 * IQR_race\n",
        "lower_fence_race = Q1_race - 1.5 * IQR_race\n",
        "\n",
        "# filter outliers from race lap times\n",
        "without_outliers_race = filtered_race[(filtered_race['LapTime'] >= lower_fence_race) & (filtered_race['LapTime'] <= upper_fence_race)].copy()\n",
        "\n",
        "# calculate percentage difference per lap for race\n",
        "without_outliers_race['LapTimePercentageDifference'] = without_outliers_race['LapTime'].pct_change() * 100"
      ],
      "execution_count": 33,
      "outputs": []
    },
    {
      "cell_type": "code",
      "metadata": {
        "colab": {
          "base_uri": "https://localhost:8080/",
          "height": 542
        },
        "id": "21bbba02",
        "outputId": "28d93a74-0669-43c5-e522-056c0e1750d0"
      },
      "source": [
        "import plotly.graph_objects as go\n",
        "\n",
        "fig_race_pct_diff = go.Figure()\n",
        "fig_race_pct_diff.add_trace(go.Bar(x=without_outliers_race['LapNumber'], y=without_outliers_race['LapTimePercentageDifference']))\n",
        "fig_race_pct_diff.update_layout(title='Percentage Difference in Race Lap Time per Lap (Outliers Filtered)', xaxis_title='Lap Number', yaxis_title='Percentage Difference', template='none')\n",
        "\n",
        "# Add vertical lines for track status changes to the race plot\n",
        "for index, row in race.track_status.iterrows():\n",
        "    # Find the closest lap number in without_outliers_race based on time\n",
        "    closest_lap_race = without_outliers_race.loc[without_outliers_race['Time'].sub(row['Time']).abs().idxmin()]\n",
        "    fig_race_pct_diff.add_vline(x=closest_lap_race['LapNumber'], line_width=1, line_dash=\"dash\", line_color=track_status_colors[row['Message']], name=row['Message'])\n",
        "\n",
        "fig_race_pct_diff.show()"
      ],
      "execution_count": 34,
      "outputs": [
        {
          "output_type": "display_data",
          "data": {
            "text/html": [
              "<html>\n",
              "<head><meta charset=\"utf-8\" /></head>\n",
              "<body>\n",
              "    <div>            <script src=\"https://cdnjs.cloudflare.com/ajax/libs/mathjax/2.7.5/MathJax.js?config=TeX-AMS-MML_SVG\"></script><script type=\"text/javascript\">if (window.MathJax && window.MathJax.Hub && window.MathJax.Hub.Config) {window.MathJax.Hub.Config({SVG: {font: \"STIX-Web\"}});}</script>                <script type=\"text/javascript\">window.PlotlyConfig = {MathJaxConfig: 'local'};</script>\n",
              "        <script charset=\"utf-8\" src=\"https://cdn.plot.ly/plotly-2.35.2.min.js\"></script>                <div id=\"4c2a7011-b5d8-46b3-86f0-726ccc22a826\" class=\"plotly-graph-div\" style=\"height:525px; width:100%;\"></div>            <script type=\"text/javascript\">                                    window.PLOTLYENV=window.PLOTLYENV || {};                                    if (document.getElementById(\"4c2a7011-b5d8-46b3-86f0-726ccc22a826\")) {                    Plotly.newPlot(                        \"4c2a7011-b5d8-46b3-86f0-726ccc22a826\",                        [{\"x\":[1.0,4.0,5.0,6.0,7.0,8.0,9.0,11.0,12.0,13.0,14.0,15.0,17.0,18.0,19.0,21.0,22.0,23.0,25.0,26.0,27.0],\"y\":[null,-14.517260476278382,-15.402971537165811,54.71428389089563,-35.636972626924276,74.76575618134508,-42.8458271909173,70.11600451699005,-27.793283446985694,-18.783364499650034,74.72183990841619,-42.81549538407173,34.60142128842887,-2.9975227874857735,-23.733225529733094,78.1302925700397,-30.09028755570394,-19.637054493734617,29.15331748656469,4.344086021505378,-25.92841120420254],\"type\":\"bar\"}],                        {\"template\":{\"data\":{\"scatter\":[{\"type\":\"scatter\"}]}},\"title\":{\"text\":\"Percentage Difference in Race Lap Time per Lap (Outliers Filtered)\"},\"xaxis\":{\"title\":{\"text\":\"Lap Number\"}},\"yaxis\":{\"title\":{\"text\":\"Percentage Difference\"}},\"shapes\":[{\"line\":{\"color\":\"blue\",\"dash\":\"dash\",\"width\":1},\"name\":\"AllClear\",\"type\":\"line\",\"x0\":1.0,\"x1\":1.0,\"xref\":\"x\",\"y0\":0,\"y1\":1,\"yref\":\"y domain\"},{\"line\":{\"color\":\"yellow\",\"dash\":\"dash\",\"width\":1},\"name\":\"Yellow\",\"type\":\"line\",\"x0\":1.0,\"x1\":1.0,\"xref\":\"x\",\"y0\":0,\"y1\":1,\"yref\":\"y domain\"},{\"line\":{\"color\":\"blue\",\"dash\":\"dash\",\"width\":1},\"name\":\"AllClear\",\"type\":\"line\",\"x0\":1.0,\"x1\":1.0,\"xref\":\"x\",\"y0\":0,\"y1\":1,\"yref\":\"y domain\"},{\"line\":{\"color\":\"yellow\",\"dash\":\"dash\",\"width\":1},\"name\":\"Yellow\",\"type\":\"line\",\"x0\":1.0,\"x1\":1.0,\"xref\":\"x\",\"y0\":0,\"y1\":1,\"yref\":\"y domain\"},{\"line\":{\"color\":\"red\",\"dash\":\"dash\",\"width\":1},\"name\":\"Red\",\"type\":\"line\",\"x0\":1.0,\"x1\":1.0,\"xref\":\"x\",\"y0\":0,\"y1\":1,\"yref\":\"y domain\"},{\"line\":{\"color\":\"blue\",\"dash\":\"dash\",\"width\":1},\"name\":\"AllClear\",\"type\":\"line\",\"x0\":1.0,\"x1\":1.0,\"xref\":\"x\",\"y0\":0,\"y1\":1,\"yref\":\"y domain\"},{\"line\":{\"color\":\"yellow\",\"dash\":\"dash\",\"width\":1},\"name\":\"Yellow\",\"type\":\"line\",\"x0\":9.0,\"x1\":9.0,\"xref\":\"x\",\"y0\":0,\"y1\":1,\"yref\":\"y domain\"},{\"line\":{\"color\":\"blue\",\"dash\":\"dash\",\"width\":1},\"name\":\"AllClear\",\"type\":\"line\",\"x0\":11.0,\"x1\":11.0,\"xref\":\"x\",\"y0\":0,\"y1\":1,\"yref\":\"y domain\"},{\"line\":{\"color\":\"yellow\",\"dash\":\"dash\",\"width\":1},\"name\":\"Yellow\",\"type\":\"line\",\"x0\":12.0,\"x1\":12.0,\"xref\":\"x\",\"y0\":0,\"y1\":1,\"yref\":\"y domain\"},{\"line\":{\"color\":\"blue\",\"dash\":\"dash\",\"width\":1},\"name\":\"AllClear\",\"type\":\"line\",\"x0\":12.0,\"x1\":12.0,\"xref\":\"x\",\"y0\":0,\"y1\":1,\"yref\":\"y domain\"},{\"line\":{\"color\":\"yellow\",\"dash\":\"dash\",\"width\":1},\"name\":\"Yellow\",\"type\":\"line\",\"x0\":19.0,\"x1\":19.0,\"xref\":\"x\",\"y0\":0,\"y1\":1,\"yref\":\"y domain\"},{\"line\":{\"color\":\"blue\",\"dash\":\"dash\",\"width\":1},\"name\":\"AllClear\",\"type\":\"line\",\"x0\":21.0,\"x1\":21.0,\"xref\":\"x\",\"y0\":0,\"y1\":1,\"yref\":\"y domain\"},{\"line\":{\"color\":\"yellow\",\"dash\":\"dash\",\"width\":1},\"name\":\"Yellow\",\"type\":\"line\",\"x0\":27.0,\"x1\":27.0,\"xref\":\"x\",\"y0\":0,\"y1\":1,\"yref\":\"y domain\"},{\"line\":{\"color\":\"blue\",\"dash\":\"dash\",\"width\":1},\"name\":\"AllClear\",\"type\":\"line\",\"x0\":27.0,\"x1\":27.0,\"xref\":\"x\",\"y0\":0,\"y1\":1,\"yref\":\"y domain\"},{\"line\":{\"color\":\"yellow\",\"dash\":\"dash\",\"width\":1},\"name\":\"Yellow\",\"type\":\"line\",\"x0\":27.0,\"x1\":27.0,\"xref\":\"x\",\"y0\":0,\"y1\":1,\"yref\":\"y domain\"},{\"line\":{\"color\":\"blue\",\"dash\":\"dash\",\"width\":1},\"name\":\"AllClear\",\"type\":\"line\",\"x0\":27.0,\"x1\":27.0,\"xref\":\"x\",\"y0\":0,\"y1\":1,\"yref\":\"y domain\"}]},                        {\"responsive\": true}                    ).then(function(){\n",
              "                            \n",
              "var gd = document.getElementById('4c2a7011-b5d8-46b3-86f0-726ccc22a826');\n",
              "var x = new MutationObserver(function (mutations, observer) {{\n",
              "        var display = window.getComputedStyle(gd).display;\n",
              "        if (!display || display === 'none') {{\n",
              "            console.log([gd, 'removed!']);\n",
              "            Plotly.purge(gd);\n",
              "            observer.disconnect();\n",
              "        }}\n",
              "}});\n",
              "\n",
              "// Listen for the removal of the full notebook cells\n",
              "var notebookContainer = gd.closest('#notebook-container');\n",
              "if (notebookContainer) {{\n",
              "    x.observe(notebookContainer, {childList: true});\n",
              "}}\n",
              "\n",
              "// Listen for the clearing of the current output cell\n",
              "var outputEl = gd.closest('.output');\n",
              "if (outputEl) {{\n",
              "    x.observe(outputEl, {childList: true});\n",
              "}}\n",
              "\n",
              "                        })                };                            </script>        </div>\n",
              "</body>\n",
              "</html>"
            ]
          },
          "metadata": {}
        }
      ]
    },
    {
      "cell_type": "markdown",
      "metadata": {
        "id": "cf04ac9a"
      },
      "source": [
        "Similar to the qualifying analysis, the percentage difference in lap times during the race, after filtering outliers, shows the variability in performance throughout the race. The vertical lines again indicate track status changes that might have influenced lap times."
      ]
    },
    {
      "cell_type": "code",
      "metadata": {
        "id": "48203cce"
      },
      "source": [
        "# calculate percentage difference to average lap time for race\n",
        "av_race = without_outliers_race['LapTime'].mean()\n",
        "without_outliers_race['LapTimePercentageDifferenceToAverage'] = (without_outliers_race['LapTime'] - av_race).dt.total_seconds() / av_race.total_seconds() * 100"
      ],
      "execution_count": 35,
      "outputs": []
    },
    {
      "cell_type": "code",
      "metadata": {
        "colab": {
          "base_uri": "https://localhost:8080/",
          "height": 542
        },
        "id": "0611eae9",
        "outputId": "488aa50d-8dde-487c-ed67-5420d42d748b"
      },
      "source": [
        "import plotly.graph_objects as go\n",
        "\n",
        "fig_race_pct_diff_avg = go.Figure()\n",
        "fig_race_pct_diff_avg.add_trace(go.Bar(x=without_outliers_race['LapNumber'], y=without_outliers_race['LapTimePercentageDifferenceToAverage']))\n",
        "fig_race_pct_diff_avg.update_layout(title='Percentage Difference to Average Race Lap Time per Lap (Outliers Filtered)', xaxis_title='Lap Number', yaxis_title='Percentage Difference to Average', template='none')\n",
        "\n",
        "# Add vertical lines for track status changes to the race plot\n",
        "for index, row in race.track_status.iterrows():\n",
        "    # Find the closest lap number in without_outliers_race based on time\n",
        "    closest_lap_race = without_outliers_race.loc[without_outliers_race['Time'].sub(row['Time']).abs().idxmin()]\n",
        "    fig_race_pct_diff_avg.add_vline(x=closest_lap_race['LapNumber'], line_width=1, line_dash=\"dash\", line_color=track_status_colors[row['Message']], name=row['Message'])\n",
        "\n",
        "fig_race_pct_diff_avg.show()"
      ],
      "execution_count": 36,
      "outputs": [
        {
          "output_type": "display_data",
          "data": {
            "text/html": [
              "<html>\n",
              "<head><meta charset=\"utf-8\" /></head>\n",
              "<body>\n",
              "    <div>            <script src=\"https://cdnjs.cloudflare.com/ajax/libs/mathjax/2.7.5/MathJax.js?config=TeX-AMS-MML_SVG\"></script><script type=\"text/javascript\">if (window.MathJax && window.MathJax.Hub && window.MathJax.Hub.Config) {window.MathJax.Hub.Config({SVG: {font: \"STIX-Web\"}});}</script>                <script type=\"text/javascript\">window.PlotlyConfig = {MathJaxConfig: 'local'};</script>\n",
              "        <script charset=\"utf-8\" src=\"https://cdn.plot.ly/plotly-2.35.2.min.js\"></script>                <div id=\"77b9ded0-39dc-42ce-8db3-a2b3221f8f6b\" class=\"plotly-graph-div\" style=\"height:525px; width:100%;\"></div>            <script type=\"text/javascript\">                                    window.PLOTLYENV=window.PLOTLYENV || {};                                    if (document.getElementById(\"77b9ded0-39dc-42ce-8db3-a2b3221f8f6b\")) {                    Plotly.newPlot(                        \"77b9ded0-39dc-42ce-8db3-a2b3221f8f6b\",                        [{\"x\":[1.0,4.0,5.0,6.0,7.0,8.0,9.0,11.0,12.0,13.0,14.0,15.0,17.0,18.0,19.0,21.0,22.0,23.0,25.0,26.0,27.0],\"y\":[8.923727463664148,-6.889013807444787,-21.23087254551504,21.867091599234882,-21.562650560486173,37.08162705547163,-21.652130085735966,33.2822660900901,-3.7612519753987614,-21.83812685170463,36.56586305038014,-21.90548784262301,5.116323394889382,1.965437640587792,-22.234249693821674,38.52435872663397,-3.1580192209057953,-22.174931806296534,0.513657478108055,4.8800572327129705,-22.313675339829913],\"type\":\"bar\"}],                        {\"template\":{\"data\":{\"scatter\":[{\"type\":\"scatter\"}]}},\"title\":{\"text\":\"Percentage Difference to Average Race Lap Time per Lap (Outliers Filtered)\"},\"xaxis\":{\"title\":{\"text\":\"Lap Number\"}},\"yaxis\":{\"title\":{\"text\":\"Percentage Difference to Average\"}},\"shapes\":[{\"line\":{\"color\":\"blue\",\"dash\":\"dash\",\"width\":1},\"name\":\"AllClear\",\"type\":\"line\",\"x0\":1.0,\"x1\":1.0,\"xref\":\"x\",\"y0\":0,\"y1\":1,\"yref\":\"y domain\"},{\"line\":{\"color\":\"yellow\",\"dash\":\"dash\",\"width\":1},\"name\":\"Yellow\",\"type\":\"line\",\"x0\":1.0,\"x1\":1.0,\"xref\":\"x\",\"y0\":0,\"y1\":1,\"yref\":\"y domain\"},{\"line\":{\"color\":\"blue\",\"dash\":\"dash\",\"width\":1},\"name\":\"AllClear\",\"type\":\"line\",\"x0\":1.0,\"x1\":1.0,\"xref\":\"x\",\"y0\":0,\"y1\":1,\"yref\":\"y domain\"},{\"line\":{\"color\":\"yellow\",\"dash\":\"dash\",\"width\":1},\"name\":\"Yellow\",\"type\":\"line\",\"x0\":1.0,\"x1\":1.0,\"xref\":\"x\",\"y0\":0,\"y1\":1,\"yref\":\"y domain\"},{\"line\":{\"color\":\"red\",\"dash\":\"dash\",\"width\":1},\"name\":\"Red\",\"type\":\"line\",\"x0\":1.0,\"x1\":1.0,\"xref\":\"x\",\"y0\":0,\"y1\":1,\"yref\":\"y domain\"},{\"line\":{\"color\":\"blue\",\"dash\":\"dash\",\"width\":1},\"name\":\"AllClear\",\"type\":\"line\",\"x0\":1.0,\"x1\":1.0,\"xref\":\"x\",\"y0\":0,\"y1\":1,\"yref\":\"y domain\"},{\"line\":{\"color\":\"yellow\",\"dash\":\"dash\",\"width\":1},\"name\":\"Yellow\",\"type\":\"line\",\"x0\":9.0,\"x1\":9.0,\"xref\":\"x\",\"y0\":0,\"y1\":1,\"yref\":\"y domain\"},{\"line\":{\"color\":\"blue\",\"dash\":\"dash\",\"width\":1},\"name\":\"AllClear\",\"type\":\"line\",\"x0\":11.0,\"x1\":11.0,\"xref\":\"x\",\"y0\":0,\"y1\":1,\"yref\":\"y domain\"},{\"line\":{\"color\":\"yellow\",\"dash\":\"dash\",\"width\":1},\"name\":\"Yellow\",\"type\":\"line\",\"x0\":12.0,\"x1\":12.0,\"xref\":\"x\",\"y0\":0,\"y1\":1,\"yref\":\"y domain\"},{\"line\":{\"color\":\"blue\",\"dash\":\"dash\",\"width\":1},\"name\":\"AllClear\",\"type\":\"line\",\"x0\":12.0,\"x1\":12.0,\"xref\":\"x\",\"y0\":0,\"y1\":1,\"yref\":\"y domain\"},{\"line\":{\"color\":\"yellow\",\"dash\":\"dash\",\"width\":1},\"name\":\"Yellow\",\"type\":\"line\",\"x0\":19.0,\"x1\":19.0,\"xref\":\"x\",\"y0\":0,\"y1\":1,\"yref\":\"y domain\"},{\"line\":{\"color\":\"blue\",\"dash\":\"dash\",\"width\":1},\"name\":\"AllClear\",\"type\":\"line\",\"x0\":21.0,\"x1\":21.0,\"xref\":\"x\",\"y0\":0,\"y1\":1,\"yref\":\"y domain\"},{\"line\":{\"color\":\"yellow\",\"dash\":\"dash\",\"width\":1},\"name\":\"Yellow\",\"type\":\"line\",\"x0\":27.0,\"x1\":27.0,\"xref\":\"x\",\"y0\":0,\"y1\":1,\"yref\":\"y domain\"},{\"line\":{\"color\":\"blue\",\"dash\":\"dash\",\"width\":1},\"name\":\"AllClear\",\"type\":\"line\",\"x0\":27.0,\"x1\":27.0,\"xref\":\"x\",\"y0\":0,\"y1\":1,\"yref\":\"y domain\"},{\"line\":{\"color\":\"yellow\",\"dash\":\"dash\",\"width\":1},\"name\":\"Yellow\",\"type\":\"line\",\"x0\":27.0,\"x1\":27.0,\"xref\":\"x\",\"y0\":0,\"y1\":1,\"yref\":\"y domain\"},{\"line\":{\"color\":\"blue\",\"dash\":\"dash\",\"width\":1},\"name\":\"AllClear\",\"type\":\"line\",\"x0\":27.0,\"x1\":27.0,\"xref\":\"x\",\"y0\":0,\"y1\":1,\"yref\":\"y domain\"}]},                        {\"responsive\": true}                    ).then(function(){\n",
              "                            \n",
              "var gd = document.getElementById('77b9ded0-39dc-42ce-8db3-a2b3221f8f6b');\n",
              "var x = new MutationObserver(function (mutations, observer) {{\n",
              "        var display = window.getComputedStyle(gd).display;\n",
              "        if (!display || display === 'none') {{\n",
              "            console.log([gd, 'removed!']);\n",
              "            Plotly.purge(gd);\n",
              "            observer.disconnect();\n",
              "        }}\n",
              "}});\n",
              "\n",
              "// Listen for the removal of the full notebook cells\n",
              "var notebookContainer = gd.closest('#notebook-container');\n",
              "if (notebookContainer) {{\n",
              "    x.observe(notebookContainer, {childList: true});\n",
              "}}\n",
              "\n",
              "// Listen for the clearing of the current output cell\n",
              "var outputEl = gd.closest('.output');\n",
              "if (outputEl) {{\n",
              "    x.observe(outputEl, {childList: true});\n",
              "}}\n",
              "\n",
              "                        })                };                            </script>        </div>\n",
              "</body>\n",
              "</html>"
            ]
          },
          "metadata": {}
        }
      ]
    },
    {
      "cell_type": "markdown",
      "metadata": {
        "id": "f6182bce"
      },
      "source": [
        "This plot shows the percentage difference of each lap time compared to the average lap time during the race, again with outliers removed. It gives a clearer picture of how consistently Carlos Sainz Jr. was performing relative to his average pace throughout the race, considering the various race events."
      ]
    }
  ]
}